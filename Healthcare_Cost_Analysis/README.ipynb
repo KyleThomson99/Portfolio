{
 "cells": [
  {
   "attachments": {},
   "cell_type": "markdown",
   "metadata": {},
   "source": [
    "## README"
   ]
  },
  {
   "attachments": {},
   "cell_type": "markdown",
   "metadata": {},
   "source": [
    "The dataset from this analyis can be found here  \n",
    "\n",
    "<a href=\"https://github.com/stedy/Machine-Learning-with-R-datasets\">Medical Cost Personal Datasets</a>"
   ]
  },
  {
   "attachments": {},
   "cell_type": "markdown",
   "metadata": {},
   "source": [
    "All data is assumed to be randomally generated and contains no protected health information"
   ]
  },
  {
   "attachments": {},
   "cell_type": "markdown",
   "metadata": {},
   "source": [
    "This analysis and model was created for personal use only.  \n",
    "\n",
    "For questions, comments, or concerns please reach out to me at  \n",
    "\n",
    "<a href = \"https://www.linkedin.com/in/kylethomson2/\"> LinkedIn </a>  \n",
    "Kylethomson99@gmail.com"
   ]
  },
  {
   "cell_type": "markdown",
   "metadata": {},
   "source": [
    "Thank you!"
   ]
  }
 ],
 "metadata": {
  "kernelspec": {
   "display_name": "base",
   "language": "python",
   "name": "python3"
  },
  "language_info": {
   "codemirror_mode": {
    "name": "ipython",
    "version": 3
   },
   "file_extension": ".py",
   "mimetype": "text/x-python",
   "name": "python",
   "nbconvert_exporter": "python",
   "pygments_lexer": "ipython3",
   "version": "3.9.13"
  },
  "orig_nbformat": 4,
  "vscode": {
   "interpreter": {
    "hash": "e090a5f5c82f5c9ebdf0757a12c8d1c0de750bcff55bc3678481303c1c5f1d72"
   }
  }
 },
 "nbformat": 4,
 "nbformat_minor": 2
}
