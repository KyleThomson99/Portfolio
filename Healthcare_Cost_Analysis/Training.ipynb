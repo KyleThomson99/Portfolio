{
 "cells": [
  {
   "cell_type": "code",
   "execution_count": 44,
   "metadata": {},
   "outputs": [],
   "source": [
    "import numpy as np\n",
    "import pandas as pd\n",
    "import matplotlib.pyplot as plt\n",
    "import matplotlib.style as style\n",
    "%matplotlib inline\n",
    "import seaborn as sns\n",
    "\n",
    "import warnings\n",
    "warnings.filterwarnings('ignore')\n",
    "\n",
    "plt.rc('xtick', labelsize = 12)\n",
    "plt.rc('ytick', labelsize = 12)\n",
    "plt.rc('axes', labelsize = 16, labelpad = 20)"
   ]
  },
  {
   "cell_type": "code",
   "execution_count": 45,
   "metadata": {},
   "outputs": [],
   "source": [
    "df = pd.read_csv(\n",
    "    'insurance.csv'\n",
    ")\n",
    "for col in ['region', 'sex', 'children', 'smoker']:\n",
    "    df[col] = df[col].astype('category')"
   ]
  },
  {
   "cell_type": "code",
   "execution_count": 46,
   "metadata": {},
   "outputs": [],
   "source": [
    "from sklearn.model_selection import train_test_split\n",
    "import statsmodels.formula.api as smf"
   ]
  },
  {
   "cell_type": "code",
   "execution_count": 47,
   "metadata": {},
   "outputs": [],
   "source": [
    "X = df[['age','sex','bmi','children','smoker','region']]\n",
    "Y = df['charges']"
   ]
  },
  {
   "cell_type": "code",
   "execution_count": 48,
   "metadata": {},
   "outputs": [],
   "source": [
    "x_train, x_test, y_train, y_test = train_test_split(X, Y, test_size = 0.1, random_state=7)"
   ]
  },
  {
   "cell_type": "code",
   "execution_count": 49,
   "metadata": {},
   "outputs": [],
   "source": [
    "x_train['charges'] = y_train"
   ]
  },
  {
   "cell_type": "code",
   "execution_count": 50,
   "metadata": {},
   "outputs": [],
   "source": [
    "model = smf.ols(formula = 'charges ~ age + bmi * C(smoker) + C(children) + C(smoker) + C(region)', data = df).fit()"
   ]
  },
  {
   "cell_type": "code",
   "execution_count": 51,
   "metadata": {},
   "outputs": [
    {
     "name": "stdout",
     "output_type": "stream",
     "text": [
      "                            OLS Regression Results                            \n",
      "==============================================================================\n",
      "Dep. Variable:                charges   R-squared:                       0.841\n",
      "Model:                            OLS   Adj. R-squared:                  0.840\n",
      "Method:                 Least Squares   F-statistic:                     585.7\n",
      "Date:                Wed, 01 Feb 2023   Prob (F-statistic):               0.00\n",
      "Time:                        12:05:02   Log-Likelihood:                -13246.\n",
      "No. Observations:                1338   AIC:                         2.652e+04\n",
      "Df Residuals:                    1325   BIC:                         2.659e+04\n",
      "Df Model:                          12                                         \n",
      "Covariance Type:            nonrobust                                         \n",
      "==========================================================================================\n",
      "                             coef    std err          t      P>|t|      [0.025      0.975]\n",
      "------------------------------------------------------------------------------------------\n",
      "Intercept              -2415.6937    861.889     -2.803      0.005   -4106.509    -724.878\n",
      "C(smoker)[T.yes]       -2.029e+04   1647.153    -12.319      0.000   -2.35e+04   -1.71e+04\n",
      "C(children)[T.1]         315.3928    336.908      0.936      0.349    -345.539     976.325\n",
      "C(children)[T.2]        1527.4440    373.190      4.093      0.000     795.337    2259.551\n",
      "C(children)[T.3]        1004.0918    438.277      2.291      0.022     144.300    1863.884\n",
      "C(children)[T.4]        3397.2256    990.867      3.429      0.001    1453.386    5341.065\n",
      "C(children)[T.5]        1805.2575   1164.405      1.550      0.121    -479.022    4089.537\n",
      "C(region)[T.northwest]  -595.5157    381.158     -1.562      0.118   -1343.254     152.223\n",
      "C(region)[T.southeast] -1203.0148    383.189     -3.139      0.002   -1954.738    -451.292\n",
      "C(region)[T.southwest] -1225.1332    382.480     -3.203      0.001   -1975.466    -474.800\n",
      "age                      264.6744      9.528     27.778      0.000     245.982     283.367\n",
      "bmi                       20.7894     25.604      0.812      0.417     -29.440      71.019\n",
      "bmi:C(smoker)[T.yes]    1437.6234     52.586     27.338      0.000    1334.462    1540.785\n",
      "==============================================================================\n",
      "Omnibus:                      711.416   Durbin-Watson:                   2.069\n",
      "Prob(Omnibus):                  0.000   Jarque-Bera (JB):             4296.866\n",
      "Skew:                           2.494   Prob(JB):                         0.00\n",
      "Kurtosis:                      10.224   Cond. No.                         662.\n",
      "==============================================================================\n",
      "\n",
      "Notes:\n",
      "[1] Standard Errors assume that the covariance matrix of the errors is correctly specified.\n"
     ]
    }
   ],
   "source": [
    "print(model.summary())"
   ]
  },
  {
   "cell_type": "code",
   "execution_count": 52,
   "metadata": {},
   "outputs": [],
   "source": [
    "from sklearn.metrics import mean_squared_error"
   ]
  },
  {
   "cell_type": "code",
   "execution_count": 53,
   "metadata": {},
   "outputs": [],
   "source": [
    "y_pred = model.predict(x_test)"
   ]
  },
  {
   "cell_type": "code",
   "execution_count": 57,
   "metadata": {},
   "outputs": [
    {
     "data": {
      "text/plain": [
       "13      12030.889776\n",
       "1052    11488.890684\n",
       "172      2680.243716\n",
       "1085    14883.601846\n",
       "683     11522.129956\n",
       "            ...     \n",
       "1014     6990.586394\n",
       "984      5309.124045\n",
       "262     27527.980847\n",
       "189      6859.338945\n",
       "1140    10701.065557\n",
       "Length: 134, dtype: float64"
      ]
     },
     "execution_count": 57,
     "metadata": {},
     "output_type": "execute_result"
    }
   ],
   "source": [
    "y_pred"
   ]
  },
  {
   "cell_type": "code",
   "execution_count": 54,
   "metadata": {},
   "outputs": [
    {
     "data": {
      "text/plain": [
       "28439014.579237882"
      ]
     },
     "execution_count": 54,
     "metadata": {},
     "output_type": "execute_result"
    }
   ],
   "source": [
    "mean_squared_error(y_true = y_test, y_pred=y_pred)"
   ]
  },
  {
   "cell_type": "code",
   "execution_count": 55,
   "metadata": {},
   "outputs": [
    {
     "data": {
      "text/plain": [
       "count     1338.000000\n",
       "mean     13270.422265\n",
       "std      12110.011237\n",
       "min       1121.873900\n",
       "25%       4740.287150\n",
       "50%       9382.033000\n",
       "75%      16639.912515\n",
       "max      63770.428010\n",
       "Name: charges, dtype: float64"
      ]
     },
     "execution_count": 55,
     "metadata": {},
     "output_type": "execute_result"
    }
   ],
   "source": [
    "df['charges'].describe()"
   ]
  },
  {
   "cell_type": "code",
   "execution_count": 56,
   "metadata": {},
   "outputs": [
    {
     "data": {
      "text/plain": [
       "<AxesSubplot:xlabel='charges'>"
      ]
     },
     "execution_count": 56,
     "metadata": {},
     "output_type": "execute_result"
    },
    {
     "data": {
      "image/png": "[encoded data removed]",
      "text/plain": [
       "<Figure size 640x480 with 1 Axes>"
      ]
     },
     "metadata": {},
     "output_type": "display_data"
    }
   ],
   "source": [
    "sns.residplot(\n",
    "    x = y_test,\n",
    "    y = y_pred\n",
    ")"
   ]
  },
  {
   "cell_type": "code",
   "execution_count": null,
   "metadata": {},
   "outputs": [],
   "source": []
  }
 ],
 "metadata": {
  "kernelspec": {
   "display_name": "base",
   "language": "python",
   "name": "python3"
  },
  "language_info": {
   "codemirror_mode": {
    "name": "ipython",
    "version": 3
   },
   "file_extension": ".py",
   "mimetype": "text/x-python",
   "name": "python",
   "nbconvert_exporter": "python",
   "pygments_lexer": "ipython3",
   "version": "3.9.13"
  },
  "orig_nbformat": 4,
  "vscode": {
   "interpreter": {
    "hash": "e090a5f5c82f5c9ebdf0757a12c8d1c0de750bcff55bc3678481303c1c5f1d72"
   }
  }
 },
 "nbformat": 4,
 "nbformat_minor": 2
}
