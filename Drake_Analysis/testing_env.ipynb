{
 "cells": [
  {
   "cell_type": "code",
   "execution_count": 152,
   "metadata": {},
   "outputs": [],
   "source": [
    "import pandas as pd\n",
    "import requests\n",
    "import urllib.request\n",
    "from bs4 import BeautifulSoup\n",
    "import re\n",
    "\n",
    "import warnings\n",
    "warnings.filterwarnings('ignore')"
   ]
  },
  {
   "cell_type": "code",
   "execution_count": 153,
   "metadata": {},
   "outputs": [],
   "source": [
    "wiki_url = 'https://en.wikipedia.org/wiki/Drake_discography'\n",
    "html = urllib.request.urlopen(wiki_url)\n",
    "soup = BeautifulSoup(html, 'html.parser')"
   ]
  },
  {
   "cell_type": "code",
   "execution_count": 154,
   "metadata": {},
   "outputs": [],
   "source": [
    "html_pointer = soup.find('th', class_='navbox-group')"
   ]
  },
  {
   "cell_type": "code",
   "execution_count": 155,
   "metadata": {},
   "outputs": [
    {
     "data": {
      "text/plain": [
       "<th class=\"navbox-group\" scope=\"row\" style=\"width:1%;background: #EEEEEE;\">Studio albums</th>"
      ]
     },
     "execution_count": 155,
     "metadata": {},
     "output_type": "execute_result"
    }
   ],
   "source": [
    "html_pointer"
   ]
  },
  {
   "cell_type": "code",
   "execution_count": 156,
   "metadata": {},
   "outputs": [],
   "source": [
    "tables = soup.find_all('table', class_ = 'wikitable plainrowheaders')"
   ]
  },
  {
   "cell_type": "code",
   "execution_count": 157,
   "metadata": {},
   "outputs": [],
   "source": [
    "def process_num(num):\n",
    "    return float(re.sub(r'[^\\w\\s.]','',num))"
   ]
  },
  {
   "cell_type": "code",
   "execution_count": 158,
   "metadata": {},
   "outputs": [],
   "source": [
    "rows = tables[0].find_all('tr')"
   ]
  },
  {
   "cell_type": "code",
   "execution_count": 159,
   "metadata": {},
   "outputs": [],
   "source": [
    "Titles = []\n",
    "CAN = []\n",
    "AUS = []\n",
    "FRA = []\n",
    "IRE = []\n",
    "NZ = []\n",
    "SWE = []\n",
    "UK = []\n",
    "US = []\n",
    "US_RB = []\n",
    "US_RAP = []\n",
    "Sales = []\n",
    "Cert = []\n",
    "for row in rows:\n",
    "    cells = row.find_all('td')\n",
    "\n",
    "    if len(cells) > 1:\n",
    "        title = row.find('th')\n",
    "        title = title.find('a')['title']\n",
    "        Titles.append(title)\n",
    "        CAN.append(cells[1].text)\n",
    "        AUS.append(cells[2].text)\n",
    "        FRA.append(cells[3].text)\n",
    "        IRE.append(cells[4].text)\n",
    "        NZ.append(cells[5].text)\n",
    "        SWE.append(cells[6].text)\n",
    "        UK.append(cells[7].text)\n",
    "        US.append(cells[8].text)\n",
    "        US_RB.append(cells[9].text)\n",
    "        US_RAP.append(cells[10].text)"
   ]
  },
  {
   "cell_type": "code",
   "execution_count": 160,
   "metadata": {},
   "outputs": [
    {
     "data": {
      "text/plain": [
       "['Thank Me Later',\n",
       " 'Take Care (album)',\n",
       " 'Nothing Was the Same',\n",
       " 'Views (album)',\n",
       " 'Scorpion (Drake album)',\n",
       " 'Certified Lover Boy',\n",
       " 'Honestly, Nevermind']"
      ]
     },
     "execution_count": 160,
     "metadata": {},
     "output_type": "execute_result"
    }
   ],
   "source": [
    "Titles"
   ]
  },
  {
   "cell_type": "code",
   "execution_count": 161,
   "metadata": {},
   "outputs": [],
   "source": [
    "df = pd.DataFrame(index = Titles)\n",
    "df = df.reset_index()\n",
    "df.rename({'index': 'title'}, axis = 1, inplace=True)"
   ]
  },
  {
   "cell_type": "code",
   "execution_count": 162,
   "metadata": {},
   "outputs": [
    {
     "data": {
      "text/plain": [
       "['1\\n', '1\\n', '1\\n', '1\\n', '1\\n', '1\\n', '1\\n']"
      ]
     },
     "execution_count": 162,
     "metadata": {},
     "output_type": "execute_result"
    }
   ],
   "source": [
    "US_RAP"
   ]
  },
  {
   "cell_type": "code",
   "execution_count": 163,
   "metadata": {},
   "outputs": [],
   "source": [
    "country_names = ['can', 'aus', 'fra', 'ire', 'nz', 'swe', 'uk', 'us', 'us_rb', 'us_rap']\n",
    "i = 0\n",
    "for country in [CAN, AUS, FRA, IRE, NZ, SWE, UK, US, US_RB, US_RAP]:\n",
    "    df[country_names[i]] = country\n",
    "    i += 1"
   ]
  },
  {
   "cell_type": "code",
   "execution_count": 164,
   "metadata": {},
   "outputs": [
    {
     "data": {
      "text/html": [
       "<div>\n",
       "<style scoped>\n",
       "    .dataframe tbody tr th:only-of-type {\n",
       "        vertical-align: middle;\n",
       "    }\n",
       "\n",
       "    .dataframe tbody tr th {\n",
       "        vertical-align: top;\n",
       "    }\n",
       "\n",
       "    .dataframe thead th {\n",
       "        text-align: right;\n",
       "    }\n",
       "</style>\n",
       "<table border=\"1\" class=\"dataframe\">\n",
       "  <thead>\n",
       "    <tr style=\"text-align: right;\">\n",
       "      <th></th>\n",
       "      <th>title</th>\n",
       "      <th>can</th>\n",
       "      <th>aus</th>\n",
       "      <th>fra</th>\n",
       "      <th>ire</th>\n",
       "      <th>nz</th>\n",
       "      <th>swe</th>\n",
       "      <th>uk</th>\n",
       "      <th>us</th>\n",
       "      <th>us_rb</th>\n",
       "      <th>us_rap</th>\n",
       "    </tr>\n",
       "  </thead>\n",
       "  <tbody>\n",
       "    <tr>\n",
       "      <th>0</th>\n",
       "      <td>Thank Me Later</td>\n",
       "      <td>1</td>\n",
       "      <td>81</td>\n",
       "      <td>117</td>\n",
       "      <td>32</td>\n",
       "      <td>35</td>\n",
       "      <td>—</td>\n",
       "      <td>15</td>\n",
       "      <td>1</td>\n",
       "      <td>1</td>\n",
       "      <td>1\\n</td>\n",
       "    </tr>\n",
       "    <tr>\n",
       "      <th>1</th>\n",
       "      <td>Take Care (album)</td>\n",
       "      <td>1</td>\n",
       "      <td>15</td>\n",
       "      <td>32</td>\n",
       "      <td>30</td>\n",
       "      <td>19</td>\n",
       "      <td>—</td>\n",
       "      <td>5</td>\n",
       "      <td>1</td>\n",
       "      <td>1</td>\n",
       "      <td>1\\n</td>\n",
       "    </tr>\n",
       "    <tr>\n",
       "      <th>2</th>\n",
       "      <td>Nothing Was the Same</td>\n",
       "      <td>1</td>\n",
       "      <td>2</td>\n",
       "      <td>11</td>\n",
       "      <td>4</td>\n",
       "      <td>4</td>\n",
       "      <td>10</td>\n",
       "      <td>2</td>\n",
       "      <td>1</td>\n",
       "      <td>1</td>\n",
       "      <td>1\\n</td>\n",
       "    </tr>\n",
       "    <tr>\n",
       "      <th>3</th>\n",
       "      <td>Views (album)</td>\n",
       "      <td>1</td>\n",
       "      <td>1</td>\n",
       "      <td>4</td>\n",
       "      <td>2</td>\n",
       "      <td>1</td>\n",
       "      <td>2</td>\n",
       "      <td>1</td>\n",
       "      <td>1</td>\n",
       "      <td>1</td>\n",
       "      <td>1\\n</td>\n",
       "    </tr>\n",
       "    <tr>\n",
       "      <th>4</th>\n",
       "      <td>Scorpion (Drake album)</td>\n",
       "      <td>1</td>\n",
       "      <td>1</td>\n",
       "      <td>3</td>\n",
       "      <td>1</td>\n",
       "      <td>1</td>\n",
       "      <td>1</td>\n",
       "      <td>1</td>\n",
       "      <td>1</td>\n",
       "      <td>1</td>\n",
       "      <td>1\\n</td>\n",
       "    </tr>\n",
       "    <tr>\n",
       "      <th>5</th>\n",
       "      <td>Certified Lover Boy</td>\n",
       "      <td>1</td>\n",
       "      <td>1</td>\n",
       "      <td>3</td>\n",
       "      <td>1</td>\n",
       "      <td>1</td>\n",
       "      <td>1</td>\n",
       "      <td>1</td>\n",
       "      <td>1</td>\n",
       "      <td>1</td>\n",
       "      <td>1\\n</td>\n",
       "    </tr>\n",
       "    <tr>\n",
       "      <th>6</th>\n",
       "      <td>Honestly, Nevermind</td>\n",
       "      <td>1</td>\n",
       "      <td>2</td>\n",
       "      <td>6</td>\n",
       "      <td>2</td>\n",
       "      <td>2</td>\n",
       "      <td>2</td>\n",
       "      <td>2</td>\n",
       "      <td>1</td>\n",
       "      <td>1</td>\n",
       "      <td>1\\n</td>\n",
       "    </tr>\n",
       "  </tbody>\n",
       "</table>\n",
       "</div>"
      ],
      "text/plain": [
       "                    title can aus  fra ire  nz swe  uk us us_rb us_rap\n",
       "0          Thank Me Later   1  81  117  32  35   —  15  1     1    1\\n\n",
       "1       Take Care (album)   1  15   32  30  19   —   5  1     1    1\\n\n",
       "2    Nothing Was the Same   1   2   11   4   4  10   2  1     1    1\\n\n",
       "3           Views (album)   1   1    4   2   1   2   1  1     1    1\\n\n",
       "4  Scorpion (Drake album)   1   1    3   1   1   1   1  1     1    1\\n\n",
       "5     Certified Lover Boy   1   1    3   1   1   1   1  1     1    1\\n\n",
       "6     Honestly, Nevermind   1   2    6   2   2   2   2  1     1    1\\n"
      ]
     },
     "execution_count": 164,
     "metadata": {},
     "output_type": "execute_result"
    }
   ],
   "source": [
    "df"
   ]
  },
  {
   "cell_type": "code",
   "execution_count": null,
   "metadata": {},
   "outputs": [],
   "source": []
  }
 ],
 "metadata": {
  "kernelspec": {
   "display_name": "base",
   "language": "python",
   "name": "python3"
  },
  "language_info": {
   "codemirror_mode": {
    "name": "ipython",
    "version": 3
   },
   "file_extension": ".py",
   "mimetype": "text/x-python",
   "name": "python",
   "nbconvert_exporter": "python",
   "pygments_lexer": "ipython3",
   "version": "3.9.13"
  },
  "orig_nbformat": 4,
  "vscode": {
   "interpreter": {
    "hash": "e090a5f5c82f5c9ebdf0757a12c8d1c0de750bcff55bc3678481303c1c5f1d72"
   }
  }
 },
 "nbformat": 4,
 "nbformat_minor": 2
}
