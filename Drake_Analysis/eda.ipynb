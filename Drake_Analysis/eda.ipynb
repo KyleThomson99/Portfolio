{
 "cells": [
  {
   "cell_type": "code",
   "execution_count": 210,
   "metadata": {},
   "outputs": [],
   "source": [
    "import numpy as np\n",
    "import pandas as pd\n",
    "import matplotlib.pyplot as plt\n",
    "import matplotlib.style as style\n",
    "%matplotlib inline\n",
    "import seaborn as sns\n",
    "from scipy import stats\n",
    "import re\n",
    "\n",
    "import warnings\n",
    "warnings.filterwarnings('ignore')\n",
    "\n",
    "plt.rc('xtick', labelsize = 10)\n",
    "plt.rc('ytick', labelsize = 10)\n",
    "plt.rc('axes', labelsize = 12, labelpad = 5)"
   ]
  },
  {
   "cell_type": "code",
   "execution_count": 211,
   "metadata": {},
   "outputs": [],
   "source": [
    "df_songs = pd.read_csv('drake_songs.csv', index_col='Unnamed: 0')\n",
    "df_wiki = pd.read_csv('drake_wiki.csv', index_col='Unnamed: 0')"
   ]
  },
  {
   "cell_type": "markdown",
   "metadata": {},
   "source": [
    "## Data Cleaning"
   ]
  },
  {
   "cell_type": "markdown",
   "metadata": {},
   "source": [
    "#### Songs Tables"
   ]
  },
  {
   "cell_type": "code",
   "execution_count": 212,
   "metadata": {},
   "outputs": [
    {
     "data": {
      "text/html": [
       "<div>\n",
       "<style scoped>\n",
       "    .dataframe tbody tr th:only-of-type {\n",
       "        vertical-align: middle;\n",
       "    }\n",
       "\n",
       "    .dataframe tbody tr th {\n",
       "        vertical-align: top;\n",
       "    }\n",
       "\n",
       "    .dataframe thead th {\n",
       "        text-align: right;\n",
       "    }\n",
       "</style>\n",
       "<table border=\"1\" class=\"dataframe\">\n",
       "  <thead>\n",
       "    <tr style=\"text-align: right;\">\n",
       "      <th></th>\n",
       "      <th>title</th>\n",
       "      <th>album</th>\n",
       "      <th>release_date</th>\n",
       "      <th>featured_artists</th>\n",
       "      <th>producer_artists</th>\n",
       "      <th>writer_artists</th>\n",
       "      <th>genius_track_id</th>\n",
       "      <th>genius_album_id</th>\n",
       "    </tr>\n",
       "  </thead>\n",
       "  <tbody>\n",
       "    <tr>\n",
       "      <th>0</th>\n",
       "      <td>0 to 100 / The Catch Up</td>\n",
       "      <td>#FYM12</td>\n",
       "      <td>2014-06-01</td>\n",
       "      <td>[]</td>\n",
       "      <td>['Chester Hansen', 'Vinylz', 'Ging', 'Boi-1da'...</td>\n",
       "      <td>['Chester Hansen', 'Ging', 'Nineteen85', 'Drak...</td>\n",
       "      <td>156640</td>\n",
       "      <td>914226.0</td>\n",
       "    </tr>\n",
       "    <tr>\n",
       "      <th>1</th>\n",
       "      <td>10 Bands</td>\n",
       "      <td>If You’re Reading This It’s Too Late</td>\n",
       "      <td>2015-02-13</td>\n",
       "      <td>[]</td>\n",
       "      <td>['Ging', 'Sevn Thomas', 'Boi-1da']</td>\n",
       "      <td>['Sevn Thomas', 'Ging', 'Boi-1da', 'Quentin Mi...</td>\n",
       "      <td>703738</td>\n",
       "      <td>119674.0</td>\n",
       "    </tr>\n",
       "    <tr>\n",
       "      <th>2</th>\n",
       "      <td>1Xtra Freestyle</td>\n",
       "      <td>Tim Westwood I Freestyles</td>\n",
       "      <td>2010-06-11</td>\n",
       "      <td>[]</td>\n",
       "      <td>['Tim Westwood']</td>\n",
       "      <td>['Drake']</td>\n",
       "      <td>421444</td>\n",
       "      <td>883007.0</td>\n",
       "    </tr>\n",
       "    <tr>\n",
       "      <th>3</th>\n",
       "      <td>2</td>\n",
       "      <td>&lt;single&gt;</td>\n",
       "      <td>NaN</td>\n",
       "      <td>[]</td>\n",
       "      <td>[]</td>\n",
       "      <td>[]</td>\n",
       "      <td>2457033</td>\n",
       "      <td>NaN</td>\n",
       "    </tr>\n",
       "    <tr>\n",
       "      <th>4</th>\n",
       "      <td>2011 Juno Awards In Toronto</td>\n",
       "      <td>&lt;single&gt;</td>\n",
       "      <td>2011-03-26</td>\n",
       "      <td>[]</td>\n",
       "      <td>[]</td>\n",
       "      <td>[]</td>\n",
       "      <td>214614</td>\n",
       "      <td>NaN</td>\n",
       "    </tr>\n",
       "  </tbody>\n",
       "</table>\n",
       "</div>"
      ],
      "text/plain": [
       "                         title                                 album  \\\n",
       "0      0 to 100 / The Catch Up                                #FYM12   \n",
       "1                     10 Bands  If You’re Reading This It’s Too Late   \n",
       "2              1Xtra Freestyle             Tim Westwood I Freestyles   \n",
       "3                            2                              <single>   \n",
       "4  2011 Juno Awards In Toronto                              <single>   \n",
       "\n",
       "  release_date featured_artists  \\\n",
       "0   2014-06-01               []   \n",
       "1   2015-02-13               []   \n",
       "2   2010-06-11               []   \n",
       "3          NaN               []   \n",
       "4   2011-03-26               []   \n",
       "\n",
       "                                    producer_artists  \\\n",
       "0  ['Chester Hansen', 'Vinylz', 'Ging', 'Boi-1da'...   \n",
       "1                 ['Ging', 'Sevn Thomas', 'Boi-1da']   \n",
       "2                                   ['Tim Westwood']   \n",
       "3                                                 []   \n",
       "4                                                 []   \n",
       "\n",
       "                                      writer_artists  genius_track_id  \\\n",
       "0  ['Chester Hansen', 'Ging', 'Nineteen85', 'Drak...           156640   \n",
       "1  ['Sevn Thomas', 'Ging', 'Boi-1da', 'Quentin Mi...           703738   \n",
       "2                                          ['Drake']           421444   \n",
       "3                                                 []          2457033   \n",
       "4                                                 []           214614   \n",
       "\n",
       "   genius_album_id  \n",
       "0         914226.0  \n",
       "1         119674.0  \n",
       "2         883007.0  \n",
       "3              NaN  \n",
       "4              NaN  "
      ]
     },
     "execution_count": 212,
     "metadata": {},
     "output_type": "execute_result"
    }
   ],
   "source": [
    "df_songs.head()"
   ]
  },
  {
   "cell_type": "code",
   "execution_count": 213,
   "metadata": {},
   "outputs": [
    {
     "data": {
      "text/plain": [
       "title                object\n",
       "album                object\n",
       "release_date         object\n",
       "featured_artists     object\n",
       "producer_artists     object\n",
       "writer_artists       object\n",
       "genius_track_id       int64\n",
       "genius_album_id     float64\n",
       "dtype: object"
      ]
     },
     "execution_count": 213,
     "metadata": {},
     "output_type": "execute_result"
    }
   ],
   "source": [
    "df_songs.dtypes"
   ]
  },
  {
   "cell_type": "code",
   "execution_count": 214,
   "metadata": {},
   "outputs": [],
   "source": [
    "for column in ['featured_artists', 'producer_artists', 'writer_artists']:\n",
    "    df_songs[column] = df_songs[column].apply(lambda x: x.strip('[]').replace(\"'\",\"\"))\n",
    "    df_songs[column] = df_songs[column].apply(lambda x: x.split(','))\n",
    "\n",
    "commercial_releases = [\n",
    "    'So Far Gone',\n",
    "    'Thank Me Later',\n",
    "    'Take Care',\n",
    "    'Care Package',\n",
    "    'Nothing Was the Same',\n",
    "    \"If You're Reading This It's Too Late\",\n",
    "    'Views',\n",
    "    'What a Time To Be Alive',\n",
    "    'More Life',\n",
    "    'Scary Hours',\n",
    "    'Scorpion',\n",
    "    'The Best in the World Pack',\n",
    "    'Dark Lane Demo Tapes',\n",
    "    'Scary Hours 2',\n",
    "    'Certified Lover Boy',\n",
    "    'Honestly, Nevermind',\n",
    "    'Her Loss'\n",
    "]\n",
    "\n",
    "df_songs_commercial = df_songs[(df_songs['album'].isin(commercial_releases))]"
   ]
  },
  {
   "cell_type": "code",
   "execution_count": 215,
   "metadata": {},
   "outputs": [
    {
     "data": {
      "text/html": [
       "<div>\n",
       "<style scoped>\n",
       "    .dataframe tbody tr th:only-of-type {\n",
       "        vertical-align: middle;\n",
       "    }\n",
       "\n",
       "    .dataframe tbody tr th {\n",
       "        vertical-align: top;\n",
       "    }\n",
       "\n",
       "    .dataframe thead th {\n",
       "        text-align: right;\n",
       "    }\n",
       "</style>\n",
       "<table border=\"1\" class=\"dataframe\">\n",
       "  <thead>\n",
       "    <tr style=\"text-align: right;\">\n",
       "      <th></th>\n",
       "      <th>title</th>\n",
       "      <th>album</th>\n",
       "      <th>release_date</th>\n",
       "      <th>featured_artists</th>\n",
       "      <th>producer_artists</th>\n",
       "      <th>writer_artists</th>\n",
       "      <th>genius_track_id</th>\n",
       "      <th>genius_album_id</th>\n",
       "    </tr>\n",
       "  </thead>\n",
       "  <tbody>\n",
       "    <tr>\n",
       "      <th>72</th>\n",
       "      <td>Can’t Take a Joke</td>\n",
       "      <td>Scorpion</td>\n",
       "      <td>2018-06-29</td>\n",
       "      <td>[]</td>\n",
       "      <td>[ModMaxx]</td>\n",
       "      <td>[ModMaxx,  Drake]</td>\n",
       "      <td>3807748</td>\n",
       "      <td>420582.0</td>\n",
       "    </tr>\n",
       "    <tr>\n",
       "      <th>106</th>\n",
       "      <td>Doing His Thing</td>\n",
       "      <td>&lt;single&gt;</td>\n",
       "      <td>NaN</td>\n",
       "      <td>[]</td>\n",
       "      <td>[Terrel “T. Slack”]</td>\n",
       "      <td>[Terrel “T. Slack”,  Drake]</td>\n",
       "      <td>57394</td>\n",
       "      <td>NaN</td>\n",
       "    </tr>\n",
       "    <tr>\n",
       "      <th>188</th>\n",
       "      <td>Greatness</td>\n",
       "      <td>Young Sweet Jones</td>\n",
       "      <td>2010-06-21</td>\n",
       "      <td>[Bishop Brigante]</td>\n",
       "      <td>[Rene Snaz Hill]</td>\n",
       "      <td>[Bishop Brigante,  Drake]</td>\n",
       "      <td>3001</td>\n",
       "      <td>881461.0</td>\n",
       "    </tr>\n",
       "    <tr>\n",
       "      <th>524</th>\n",
       "      <td>The Ride</td>\n",
       "      <td>Take Care</td>\n",
       "      <td>2011-11-15</td>\n",
       "      <td>[The Weeknd]</td>\n",
       "      <td>[Doc McKinney,  The Weeknd]</td>\n",
       "      <td>[Drake,  The Weeknd,  Doc McKinney,  Anthony P...</td>\n",
       "      <td>55694</td>\n",
       "      <td>10787.0</td>\n",
       "    </tr>\n",
       "    <tr>\n",
       "      <th>506</th>\n",
       "      <td>Thank Me Now</td>\n",
       "      <td>Thank Me Later</td>\n",
       "      <td>2010-06-15</td>\n",
       "      <td>[]</td>\n",
       "      <td>[Timbaland]</td>\n",
       "      <td>[Timbaland,  Drake]</td>\n",
       "      <td>518</td>\n",
       "      <td>2630.0</td>\n",
       "    </tr>\n",
       "  </tbody>\n",
       "</table>\n",
       "</div>"
      ],
      "text/plain": [
       "                 title              album release_date   featured_artists  \\\n",
       "72   Can’t Take a Joke           Scorpion   2018-06-29                 []   \n",
       "106    Doing His Thing           <single>          NaN                 []   \n",
       "188          Greatness  Young Sweet Jones   2010-06-21  [Bishop Brigante]   \n",
       "524           The Ride          Take Care   2011-11-15       [The Weeknd]   \n",
       "506       Thank Me Now     Thank Me Later   2010-06-15                 []   \n",
       "\n",
       "                producer_artists  \\\n",
       "72                     [ModMaxx]   \n",
       "106          [Terrel “T. Slack”]   \n",
       "188             [Rene Snaz Hill]   \n",
       "524  [Doc McKinney,  The Weeknd]   \n",
       "506                  [Timbaland]   \n",
       "\n",
       "                                        writer_artists  genius_track_id  \\\n",
       "72                                   [ModMaxx,  Drake]          3807748   \n",
       "106                        [Terrel “T. Slack”,  Drake]            57394   \n",
       "188                          [Bishop Brigante,  Drake]             3001   \n",
       "524  [Drake,  The Weeknd,  Doc McKinney,  Anthony P...            55694   \n",
       "506                                [Timbaland,  Drake]              518   \n",
       "\n",
       "     genius_album_id  \n",
       "72          420582.0  \n",
       "106              NaN  \n",
       "188         881461.0  \n",
       "524          10787.0  \n",
       "506           2630.0  "
      ]
     },
     "execution_count": 215,
     "metadata": {},
     "output_type": "execute_result"
    }
   ],
   "source": [
    "df_songs.sample(5)"
   ]
  },
  {
   "attachments": {},
   "cell_type": "markdown",
   "metadata": {},
   "source": [
    "#### Wiki Table"
   ]
  },
  {
   "cell_type": "code",
   "execution_count": 216,
   "metadata": {},
   "outputs": [],
   "source": [
    "df_wiki.columns = [x.replace('[','').replace(']','') for x in df_wiki.columns]\n",
    "df_wiki.columns = [re.sub(r'[0-9]','',x) for x in df_wiki.columns]\n",
    "df_wiki.columns = [x.lower() for x in df_wiki.columns]\n",
    "\n",
    "df_wiki_obj = df_wiki.select_dtypes('object')\n",
    "df_wiki[df_wiki_obj.columns] = df_wiki_obj.apply(lambda x: x.str.strip())\n",
    "df_wiki = df_wiki.replace(df_wiki['can'].iloc[8],np.NaN)\n",
    "df_wiki.fillna(0, inplace=True)\n",
    "\n",
    "country_cols = ['can','aus','fra','ire','nz','swe','uk','us','usr&b/hh','usrap']\n",
    "df_wiki[country_cols] = df_wiki[country_cols].astype('int')"
   ]
  },
  {
   "cell_type": "code",
   "execution_count": 217,
   "metadata": {},
   "outputs": [
    {
     "data": {
      "text/plain": [
       "'CAN: 176,000[27] UK: 219,053[28] US: 1,830,000[29]'"
      ]
     },
     "execution_count": 217,
     "metadata": {},
     "output_type": "execute_result"
    }
   ],
   "source": [
    "df_wiki['sales'].iloc[0]"
   ]
  },
  {
   "cell_type": "code",
   "execution_count": 218,
   "metadata": {},
   "outputs": [
    {
     "data": {
      "text/plain": [
       "['CAN', ' 176,000[27] UK', ' 219,053[28] US', ' 1,830,000[29]']"
      ]
     },
     "execution_count": 218,
     "metadata": {},
     "output_type": "execute_result"
    }
   ],
   "source": [
    "df_wiki['sales'].iloc[0].split(':')"
   ]
  },
  {
   "attachments": {},
   "cell_type": "markdown",
   "metadata": {},
   "source": [
    "# EDA"
   ]
  },
  {
   "attachments": {},
   "cell_type": "markdown",
   "metadata": {},
   "source": [
    "**What artists are featured the most on Drake songs?**"
   ]
  },
  {
   "cell_type": "code",
   "execution_count": 219,
   "metadata": {},
   "outputs": [],
   "source": [
    "featured_artists = {}\n",
    "for list in df_songs_commercial['featured_artists']:\n",
    "    if len(list) > 1:\n",
    "        for name in list:\n",
    "            name = name.strip()\n",
    "            if name in featured_artists:\n",
    "                featured_artists[name.strip()] += 1\n",
    "            else:\n",
    "                featured_artists[name.strip()] = 1\n",
    "        "
   ]
  },
  {
   "cell_type": "code",
   "execution_count": 220,
   "metadata": {},
   "outputs": [],
   "source": [
    "df_featured_artists = pd.DataFrame.from_dict(featured_artists, orient='index')\n",
    "df_featured_artists.reset_index(inplace=True)\n",
    "df_featured_artists.rename({\n",
    "    'index' : 'artist',\n",
    "    0 : 'count'\n",
    "}, axis = 1, inplace = True)"
   ]
  },
  {
   "cell_type": "code",
   "execution_count": 221,
   "metadata": {},
   "outputs": [
    {
     "data": {
      "text/html": [
       "<div>\n",
       "<style scoped>\n",
       "    .dataframe tbody tr th:only-of-type {\n",
       "        vertical-align: middle;\n",
       "    }\n",
       "\n",
       "    .dataframe tbody tr th {\n",
       "        vertical-align: top;\n",
       "    }\n",
       "\n",
       "    .dataframe thead th {\n",
       "        text-align: right;\n",
       "    }\n",
       "</style>\n",
       "<table border=\"1\" class=\"dataframe\">\n",
       "  <thead>\n",
       "    <tr style=\"text-align: right;\">\n",
       "      <th></th>\n",
       "      <th>artist</th>\n",
       "      <th>count</th>\n",
       "    </tr>\n",
       "  </thead>\n",
       "  <tbody>\n",
       "    <tr>\n",
       "      <th>22</th>\n",
       "      <td>Lil Wayne</td>\n",
       "      <td>6</td>\n",
       "    </tr>\n",
       "    <tr>\n",
       "      <th>2</th>\n",
       "      <td>2 Chainz</td>\n",
       "      <td>2</td>\n",
       "    </tr>\n",
       "    <tr>\n",
       "      <th>20</th>\n",
       "      <td>Young Thug</td>\n",
       "      <td>2</td>\n",
       "    </tr>\n",
       "    <tr>\n",
       "      <th>0</th>\n",
       "      <td>Ty Dolla $ign</td>\n",
       "      <td>1</td>\n",
       "    </tr>\n",
       "    <tr>\n",
       "      <th>15</th>\n",
       "      <td>Project Pat</td>\n",
       "      <td>1</td>\n",
       "    </tr>\n",
       "    <tr>\n",
       "      <th>27</th>\n",
       "      <td>Future</td>\n",
       "      <td>1</td>\n",
       "    </tr>\n",
       "    <tr>\n",
       "      <th>26</th>\n",
       "      <td>Bun B</td>\n",
       "      <td>1</td>\n",
       "    </tr>\n",
       "    <tr>\n",
       "      <th>25</th>\n",
       "      <td>Santigold</td>\n",
       "      <td>1</td>\n",
       "    </tr>\n",
       "    <tr>\n",
       "      <th>24</th>\n",
       "      <td>André 3000</td>\n",
       "      <td>1</td>\n",
       "    </tr>\n",
       "    <tr>\n",
       "      <th>23</th>\n",
       "      <td>Tyga</td>\n",
       "      <td>1</td>\n",
       "    </tr>\n",
       "  </tbody>\n",
       "</table>\n",
       "</div>"
      ],
      "text/plain": [
       "           artist  count\n",
       "22      Lil Wayne      6\n",
       "2        2 Chainz      2\n",
       "20     Young Thug      2\n",
       "0   Ty Dolla $ign      1\n",
       "15    Project Pat      1\n",
       "27         Future      1\n",
       "26          Bun B      1\n",
       "25      Santigold      1\n",
       "24     André 3000      1\n",
       "23           Tyga      1"
      ]
     },
     "execution_count": 221,
     "metadata": {},
     "output_type": "execute_result"
    }
   ],
   "source": [
    "df_featured_artists.sort_values('count', ascending=False).head(10)"
   ]
  },
  {
   "cell_type": "markdown",
   "metadata": {},
   "source": [
    "**What producer has produced the most Drake songs?**"
   ]
  },
  {
   "cell_type": "code",
   "execution_count": 222,
   "metadata": {},
   "outputs": [],
   "source": [
    "producer_artists = {}\n",
    "for list in df_songs_commercial['producer_artists']:\n",
    "    if len(list) > 1:\n",
    "        for name in list:\n",
    "            name = name.strip()\n",
    "            if name in producer_artists:\n",
    "                producer_artists[name.strip()] += 1\n",
    "            else:\n",
    "                producer_artists[name.strip()] = 1\n",
    "\n",
    "df_producer_artists = pd.DataFrame.from_dict(producer_artists, orient='index')\n",
    "df_producer_artists.reset_index(inplace=True)\n",
    "df_producer_artists.rename({\n",
    "    'index' : 'artist',\n",
    "    0 : 'count'\n",
    "}, axis = 1, inplace = True)"
   ]
  },
  {
   "cell_type": "code",
   "execution_count": 223,
   "metadata": {},
   "outputs": [
    {
     "data": {
      "text/html": [
       "<div>\n",
       "<style scoped>\n",
       "    .dataframe tbody tr th:only-of-type {\n",
       "        vertical-align: middle;\n",
       "    }\n",
       "\n",
       "    .dataframe tbody tr th {\n",
       "        vertical-align: top;\n",
       "    }\n",
       "\n",
       "    .dataframe thead th {\n",
       "        text-align: right;\n",
       "    }\n",
       "</style>\n",
       "<table border=\"1\" class=\"dataframe\">\n",
       "  <thead>\n",
       "    <tr style=\"text-align: right;\">\n",
       "      <th></th>\n",
       "      <th>artist</th>\n",
       "      <th>count</th>\n",
       "    </tr>\n",
       "  </thead>\n",
       "  <tbody>\n",
       "    <tr>\n",
       "      <th>14</th>\n",
       "      <td>40</td>\n",
       "      <td>68</td>\n",
       "    </tr>\n",
       "    <tr>\n",
       "      <th>6</th>\n",
       "      <td>Boi-1da</td>\n",
       "      <td>26</td>\n",
       "    </tr>\n",
       "    <tr>\n",
       "      <th>44</th>\n",
       "      <td>Nineteen85</td>\n",
       "      <td>11</td>\n",
       "    </tr>\n",
       "    <tr>\n",
       "      <th>64</th>\n",
       "      <td>OZ</td>\n",
       "      <td>8</td>\n",
       "    </tr>\n",
       "    <tr>\n",
       "      <th>26</th>\n",
       "      <td>T-Minus</td>\n",
       "      <td>8</td>\n",
       "    </tr>\n",
       "    <tr>\n",
       "      <th>41</th>\n",
       "      <td>Noel Cadastre</td>\n",
       "      <td>8</td>\n",
       "    </tr>\n",
       "    <tr>\n",
       "      <th>8</th>\n",
       "      <td>Maneesh</td>\n",
       "      <td>7</td>\n",
       "    </tr>\n",
       "    <tr>\n",
       "      <th>4</th>\n",
       "      <td>Vinylz</td>\n",
       "      <td>7</td>\n",
       "    </tr>\n",
       "    <tr>\n",
       "      <th>2</th>\n",
       "      <td>Allen Ritter</td>\n",
       "      <td>7</td>\n",
       "    </tr>\n",
       "    <tr>\n",
       "      <th>60</th>\n",
       "      <td>No I.D.</td>\n",
       "      <td>6</td>\n",
       "    </tr>\n",
       "  </tbody>\n",
       "</table>\n",
       "</div>"
      ],
      "text/plain": [
       "           artist  count\n",
       "14             40     68\n",
       "6         Boi-1da     26\n",
       "44     Nineteen85     11\n",
       "64             OZ      8\n",
       "26        T-Minus      8\n",
       "41  Noel Cadastre      8\n",
       "8         Maneesh      7\n",
       "4          Vinylz      7\n",
       "2    Allen Ritter      7\n",
       "60        No I.D.      6"
      ]
     },
     "execution_count": 223,
     "metadata": {},
     "output_type": "execute_result"
    }
   ],
   "source": [
    "df_producer_artists.sort_values('count', ascending=False).head(10)"
   ]
  },
  {
   "cell_type": "markdown",
   "metadata": {},
   "source": [
    "**Who has the most writing credits on Drake songs?**"
   ]
  },
  {
   "cell_type": "code",
   "execution_count": 224,
   "metadata": {},
   "outputs": [],
   "source": [
    "writer_artists = {}\n",
    "for list in df_songs_commercial['writer_artists']:\n",
    "    if len(list) > 1:\n",
    "        for name in list:\n",
    "            name = name.strip()\n",
    "            if name in writer_artists:\n",
    "                writer_artists[name.strip()] += 1\n",
    "            else:\n",
    "                writer_artists[name.strip()] = 1\n",
    "\n",
    "df_writer_artists = pd.DataFrame.from_dict(writer_artists, orient='index')\n",
    "df_writer_artists.reset_index(inplace=True)\n",
    "df_writer_artists.rename({\n",
    "    'index' : 'artist',\n",
    "    0 : 'count'\n",
    "}, axis = 1, inplace = True)"
   ]
  },
  {
   "cell_type": "code",
   "execution_count": 225,
   "metadata": {},
   "outputs": [
    {
     "data": {
      "text/html": [
       "<div>\n",
       "<style scoped>\n",
       "    .dataframe tbody tr th:only-of-type {\n",
       "        vertical-align: middle;\n",
       "    }\n",
       "\n",
       "    .dataframe tbody tr th {\n",
       "        vertical-align: top;\n",
       "    }\n",
       "\n",
       "    .dataframe thead th {\n",
       "        text-align: right;\n",
       "    }\n",
       "</style>\n",
       "<table border=\"1\" class=\"dataframe\">\n",
       "  <thead>\n",
       "    <tr style=\"text-align: right;\">\n",
       "      <th></th>\n",
       "      <th>artist</th>\n",
       "      <th>count</th>\n",
       "    </tr>\n",
       "  </thead>\n",
       "  <tbody>\n",
       "    <tr>\n",
       "      <th>3</th>\n",
       "      <td>Drake</td>\n",
       "      <td>200</td>\n",
       "    </tr>\n",
       "    <tr>\n",
       "      <th>5</th>\n",
       "      <td>40</td>\n",
       "      <td>102</td>\n",
       "    </tr>\n",
       "    <tr>\n",
       "      <th>21</th>\n",
       "      <td>Boi-1da</td>\n",
       "      <td>30</td>\n",
       "    </tr>\n",
       "    <tr>\n",
       "      <th>49</th>\n",
       "      <td>Anthony Palman</td>\n",
       "      <td>21</td>\n",
       "    </tr>\n",
       "    <tr>\n",
       "      <th>116</th>\n",
       "      <td>Kenza Samir</td>\n",
       "      <td>14</td>\n",
       "    </tr>\n",
       "    <tr>\n",
       "      <th>173</th>\n",
       "      <td>Nineteen85</td>\n",
       "      <td>13</td>\n",
       "    </tr>\n",
       "    <tr>\n",
       "      <th>71</th>\n",
       "      <td>Lil Wayne</td>\n",
       "      <td>13</td>\n",
       "    </tr>\n",
       "    <tr>\n",
       "      <th>26</th>\n",
       "      <td>Maneesh</td>\n",
       "      <td>11</td>\n",
       "    </tr>\n",
       "    <tr>\n",
       "      <th>99</th>\n",
       "      <td>Noel Cadastre</td>\n",
       "      <td>11</td>\n",
       "    </tr>\n",
       "    <tr>\n",
       "      <th>73</th>\n",
       "      <td>T-Minus</td>\n",
       "      <td>10</td>\n",
       "    </tr>\n",
       "  </tbody>\n",
       "</table>\n",
       "</div>"
      ],
      "text/plain": [
       "             artist  count\n",
       "3             Drake    200\n",
       "5                40    102\n",
       "21          Boi-1da     30\n",
       "49   Anthony Palman     21\n",
       "116     Kenza Samir     14\n",
       "173      Nineteen85     13\n",
       "71        Lil Wayne     13\n",
       "26          Maneesh     11\n",
       "99    Noel Cadastre     11\n",
       "73          T-Minus     10"
      ]
     },
     "execution_count": 225,
     "metadata": {},
     "output_type": "execute_result"
    }
   ],
   "source": [
    "df_writer_artists.sort_values('count', ascending=False).head(10)"
   ]
  },
  {
   "attachments": {},
   "cell_type": "markdown",
   "metadata": {},
   "source": [
    "We can see that Drake is credited on 200 songs (commercial album releases) but what percentage of his entire discography is that?"
   ]
  },
  {
   "cell_type": "code",
   "execution_count": 226,
   "metadata": {},
   "outputs": [
    {
     "name": "stdout",
     "output_type": "stream",
     "text": [
      "Drake has writing credits on 95.24% of his commercially released songs\n",
      "...\n",
      "*Data does not account for ghost writers*\n"
     ]
    }
   ],
   "source": [
    "per_writing = np.round(df_writer_artists[df_writer_artists['artist'] == 'Drake']['count'].values[0] / df_songs_commercial.shape[0] * 100, 2)\n",
    "print(f'Drake has writing credits on {per_writing}% of his commercially released songs')\n",
    "print('...')\n",
    "print('*Data does not account for ghost writers*')"
   ]
  },
  {
   "cell_type": "code",
   "execution_count": null,
   "metadata": {},
   "outputs": [],
   "source": []
  }
 ],
 "metadata": {
  "kernelspec": {
   "display_name": "base",
   "language": "python",
   "name": "python3"
  },
  "language_info": {
   "codemirror_mode": {
    "name": "ipython",
    "version": 3
   },
   "file_extension": ".py",
   "mimetype": "text/x-python",
   "name": "python",
   "nbconvert_exporter": "python",
   "pygments_lexer": "ipython3",
   "version": "3.9.13"
  },
  "orig_nbformat": 4,
  "vscode": {
   "interpreter": {
    "hash": "e090a5f5c82f5c9ebdf0757a12c8d1c0de750bcff55bc3678481303c1c5f1d72"
   }
  }
 },
 "nbformat": 4,
 "nbformat_minor": 2
}
