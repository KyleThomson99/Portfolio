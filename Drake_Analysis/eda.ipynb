{
 "cells": [
  {
   "cell_type": "code",
   "execution_count": 296,
   "metadata": {},
   "outputs": [],
   "source": [
    "import numpy as np\n",
    "import pandas as pd\n",
    "import matplotlib.pyplot as plt\n",
    "import matplotlib.style as style\n",
    "%matplotlib inline\n",
    "import seaborn as sns\n",
    "from scipy import stats\n",
    "import re\n",
    "\n",
    "import warnings\n",
    "warnings.filterwarnings('ignore')\n",
    "\n",
    "plt.rc('xtick', labelsize = 10)\n",
    "plt.rc('ytick', labelsize = 10)\n",
    "plt.rc('axes', labelsize = 12, labelpad = 5)"
   ]
  },
  {
   "cell_type": "code",
   "execution_count": 297,
   "metadata": {},
   "outputs": [],
   "source": [
    "df_songs = pd.read_csv('drake_songs.csv', index_col='Unnamed: 0')\n",
    "df_wiki = pd.read_csv('drake_wiki.csv', index_col='Unnamed: 0')"
   ]
  },
  {
   "cell_type": "markdown",
   "metadata": {},
   "source": [
    "## Data Cleaning"
   ]
  },
  {
   "cell_type": "markdown",
   "metadata": {},
   "source": [
    "#### Songs Tables"
   ]
  },
  {
   "cell_type": "code",
   "execution_count": 298,
   "metadata": {},
   "outputs": [
    {
     "data": {
      "text/html": [
       "<div>\n",
       "<style scoped>\n",
       "    .dataframe tbody tr th:only-of-type {\n",
       "        vertical-align: middle;\n",
       "    }\n",
       "\n",
       "    .dataframe tbody tr th {\n",
       "        vertical-align: top;\n",
       "    }\n",
       "\n",
       "    .dataframe thead th {\n",
       "        text-align: right;\n",
       "    }\n",
       "</style>\n",
       "<table border=\"1\" class=\"dataframe\">\n",
       "  <thead>\n",
       "    <tr style=\"text-align: right;\">\n",
       "      <th></th>\n",
       "      <th>title</th>\n",
       "      <th>album</th>\n",
       "      <th>release_date</th>\n",
       "      <th>featured_artists</th>\n",
       "      <th>producer_artists</th>\n",
       "      <th>writer_artists</th>\n",
       "      <th>genius_track_id</th>\n",
       "      <th>genius_album_id</th>\n",
       "    </tr>\n",
       "  </thead>\n",
       "  <tbody>\n",
       "    <tr>\n",
       "      <th>0</th>\n",
       "      <td>0 to 100 / The Catch Up</td>\n",
       "      <td>#FYM12</td>\n",
       "      <td>2014-06-01</td>\n",
       "      <td>[]</td>\n",
       "      <td>['Chester Hansen', 'Vinylz', 'Ging', 'Boi-1da'...</td>\n",
       "      <td>['Chester Hansen', 'Ging', 'Nineteen85', 'Drak...</td>\n",
       "      <td>156640</td>\n",
       "      <td>914226.0</td>\n",
       "    </tr>\n",
       "    <tr>\n",
       "      <th>1</th>\n",
       "      <td>10 Bands</td>\n",
       "      <td>If You’re Reading This It’s Too Late</td>\n",
       "      <td>2015-02-13</td>\n",
       "      <td>[]</td>\n",
       "      <td>['Ging', 'Sevn Thomas', 'Boi-1da']</td>\n",
       "      <td>['Sevn Thomas', 'Ging', 'Boi-1da', 'Quentin Mi...</td>\n",
       "      <td>703738</td>\n",
       "      <td>119674.0</td>\n",
       "    </tr>\n",
       "    <tr>\n",
       "      <th>2</th>\n",
       "      <td>1Xtra Freestyle</td>\n",
       "      <td>Tim Westwood I Freestyles</td>\n",
       "      <td>2010-06-11</td>\n",
       "      <td>[]</td>\n",
       "      <td>['Tim Westwood']</td>\n",
       "      <td>['Drake']</td>\n",
       "      <td>421444</td>\n",
       "      <td>883007.0</td>\n",
       "    </tr>\n",
       "    <tr>\n",
       "      <th>3</th>\n",
       "      <td>2</td>\n",
       "      <td>&lt;single&gt;</td>\n",
       "      <td>NaN</td>\n",
       "      <td>[]</td>\n",
       "      <td>[]</td>\n",
       "      <td>[]</td>\n",
       "      <td>2457033</td>\n",
       "      <td>NaN</td>\n",
       "    </tr>\n",
       "    <tr>\n",
       "      <th>4</th>\n",
       "      <td>2011 Juno Awards In Toronto</td>\n",
       "      <td>&lt;single&gt;</td>\n",
       "      <td>2011-03-26</td>\n",
       "      <td>[]</td>\n",
       "      <td>[]</td>\n",
       "      <td>[]</td>\n",
       "      <td>214614</td>\n",
       "      <td>NaN</td>\n",
       "    </tr>\n",
       "  </tbody>\n",
       "</table>\n",
       "</div>"
      ],
      "text/plain": [
       "                         title                                 album  \\\n",
       "0      0 to 100 / The Catch Up                                #FYM12   \n",
       "1                     10 Bands  If You’re Reading This It’s Too Late   \n",
       "2              1Xtra Freestyle             Tim Westwood I Freestyles   \n",
       "3                            2                              <single>   \n",
       "4  2011 Juno Awards In Toronto                              <single>   \n",
       "\n",
       "  release_date featured_artists  \\\n",
       "0   2014-06-01               []   \n",
       "1   2015-02-13               []   \n",
       "2   2010-06-11               []   \n",
       "3          NaN               []   \n",
       "4   2011-03-26               []   \n",
       "\n",
       "                                    producer_artists  \\\n",
       "0  ['Chester Hansen', 'Vinylz', 'Ging', 'Boi-1da'...   \n",
       "1                 ['Ging', 'Sevn Thomas', 'Boi-1da']   \n",
       "2                                   ['Tim Westwood']   \n",
       "3                                                 []   \n",
       "4                                                 []   \n",
       "\n",
       "                                      writer_artists  genius_track_id  \\\n",
       "0  ['Chester Hansen', 'Ging', 'Nineteen85', 'Drak...           156640   \n",
       "1  ['Sevn Thomas', 'Ging', 'Boi-1da', 'Quentin Mi...           703738   \n",
       "2                                          ['Drake']           421444   \n",
       "3                                                 []          2457033   \n",
       "4                                                 []           214614   \n",
       "\n",
       "   genius_album_id  \n",
       "0         914226.0  \n",
       "1         119674.0  \n",
       "2         883007.0  \n",
       "3              NaN  \n",
       "4              NaN  "
      ]
     },
     "execution_count": 298,
     "metadata": {},
     "output_type": "execute_result"
    }
   ],
   "source": [
    "df_songs.head()"
   ]
  },
  {
   "cell_type": "code",
   "execution_count": 299,
   "metadata": {},
   "outputs": [
    {
     "data": {
      "text/plain": [
       "title                object\n",
       "album                object\n",
       "release_date         object\n",
       "featured_artists     object\n",
       "producer_artists     object\n",
       "writer_artists       object\n",
       "genius_track_id       int64\n",
       "genius_album_id     float64\n",
       "dtype: object"
      ]
     },
     "execution_count": 299,
     "metadata": {},
     "output_type": "execute_result"
    }
   ],
   "source": [
    "df_songs.dtypes"
   ]
  },
  {
   "cell_type": "code",
   "execution_count": 300,
   "metadata": {},
   "outputs": [],
   "source": [
    "for column in ['featured_artists', 'producer_artists', 'writer_artists']:\n",
    "    df_songs[column] = df_songs[column].apply(lambda x: x.strip('[]').replace(\"'\",\"\"))\n",
    "    df_songs[column] = df_songs[column].apply(lambda x: x.split(','))\n",
    "    df_songs[column] = df_songs[column].apply(lambda x: [name.strip() for name in x])\n",
    "\n",
    "commercial_releases = [\n",
    "    'So Far Gone',\n",
    "    'Thank Me Later',\n",
    "    'Take Care',\n",
    "    'Care Package',\n",
    "    'Nothing Was the Same',\n",
    "    'If You’re Reading This It’s Too Late',\n",
    "    'Views',\n",
    "    'What a Time To Be Alive',\n",
    "    'More Life',\n",
    "    'Scary Hours',\n",
    "    'Scorpion',\n",
    "    'The Best in the World Pack',\n",
    "    'Dark Lane Demo Tapes',\n",
    "    'Scary Hours 2',\n",
    "    'Certified Lover Boy',\n",
    "    'Honestly, Nevermind',\n",
    "    'Her Loss'\n",
    "]\n",
    "\n",
    "df_songs_commercial = df_songs[(df_songs['album'].isin(commercial_releases))]"
   ]
  },
  {
   "cell_type": "code",
   "execution_count": 301,
   "metadata": {},
   "outputs": [],
   "source": [
    "df_songs_commercial['release_date'] = pd.to_datetime(df_songs_commercial['release_date'])"
   ]
  },
  {
   "cell_type": "code",
   "execution_count": 302,
   "metadata": {},
   "outputs": [
    {
     "data": {
      "text/html": [
       "<div>\n",
       "<style scoped>\n",
       "    .dataframe tbody tr th:only-of-type {\n",
       "        vertical-align: middle;\n",
       "    }\n",
       "\n",
       "    .dataframe tbody tr th {\n",
       "        vertical-align: top;\n",
       "    }\n",
       "\n",
       "    .dataframe thead th {\n",
       "        text-align: right;\n",
       "    }\n",
       "</style>\n",
       "<table border=\"1\" class=\"dataframe\">\n",
       "  <thead>\n",
       "    <tr style=\"text-align: right;\">\n",
       "      <th></th>\n",
       "      <th>title</th>\n",
       "      <th>album</th>\n",
       "      <th>release_date</th>\n",
       "      <th>featured_artists</th>\n",
       "      <th>producer_artists</th>\n",
       "      <th>writer_artists</th>\n",
       "      <th>genius_track_id</th>\n",
       "      <th>genius_album_id</th>\n",
       "    </tr>\n",
       "  </thead>\n",
       "  <tbody>\n",
       "    <tr>\n",
       "      <th>547</th>\n",
       "      <td>True Story*</td>\n",
       "      <td>&lt;single&gt;</td>\n",
       "      <td>NaN</td>\n",
       "      <td>[]</td>\n",
       "      <td>[Boi-1da]</td>\n",
       "      <td>[Drake]</td>\n",
       "      <td>4631413</td>\n",
       "      <td>NaN</td>\n",
       "    </tr>\n",
       "    <tr>\n",
       "      <th>559</th>\n",
       "      <td>Under Ground Kings</td>\n",
       "      <td>Take Care</td>\n",
       "      <td>2011-11-11</td>\n",
       "      <td>[]</td>\n",
       "      <td>[40, T-Minus]</td>\n",
       "      <td>[Drake, 40, T-Minus, Anthony Palman]</td>\n",
       "      <td>58340</td>\n",
       "      <td>10787.0</td>\n",
       "    </tr>\n",
       "    <tr>\n",
       "      <th>405</th>\n",
       "      <td>Pain 1993 (Demo)</td>\n",
       "      <td>&lt;single&gt;</td>\n",
       "      <td>NaN</td>\n",
       "      <td>[]</td>\n",
       "      <td>[Pi’erre Bourne]</td>\n",
       "      <td>[Drake, Pi’erre Bourne]</td>\n",
       "      <td>8722327</td>\n",
       "      <td>NaN</td>\n",
       "    </tr>\n",
       "    <tr>\n",
       "      <th>154</th>\n",
       "      <td>Fire in the Booth</td>\n",
       "      <td>&lt;single&gt;</td>\n",
       "      <td>2018-07-14</td>\n",
       "      <td>[]</td>\n",
       "      <td>[Boi-1da]</td>\n",
       "      <td>[Drake]</td>\n",
       "      <td>3833965</td>\n",
       "      <td>NaN</td>\n",
       "    </tr>\n",
       "    <tr>\n",
       "      <th>376</th>\n",
       "      <td>OVO Sound Radio Episode 48 Tracklist</td>\n",
       "      <td>OVO Sound Radio Tracklists - Season 1 &amp; 2</td>\n",
       "      <td>2017-07-22</td>\n",
       "      <td>[]</td>\n",
       "      <td>[]</td>\n",
       "      <td>[]</td>\n",
       "      <td>3167943</td>\n",
       "      <td>128797.0</td>\n",
       "    </tr>\n",
       "  </tbody>\n",
       "</table>\n",
       "</div>"
      ],
      "text/plain": [
       "                                    title  \\\n",
       "547                           True Story*   \n",
       "559                    Under Ground Kings   \n",
       "405                      Pain 1993 (Demo)   \n",
       "154                     Fire in the Booth   \n",
       "376  OVO Sound Radio Episode 48 Tracklist   \n",
       "\n",
       "                                         album release_date featured_artists  \\\n",
       "547                                   <single>          NaN               []   \n",
       "559                                  Take Care   2011-11-11               []   \n",
       "405                                   <single>          NaN               []   \n",
       "154                                   <single>   2018-07-14               []   \n",
       "376  OVO Sound Radio Tracklists - Season 1 & 2   2017-07-22               []   \n",
       "\n",
       "     producer_artists                        writer_artists  genius_track_id  \\\n",
       "547         [Boi-1da]                               [Drake]          4631413   \n",
       "559     [40, T-Minus]  [Drake, 40, T-Minus, Anthony Palman]            58340   \n",
       "405  [Pi’erre Bourne]               [Drake, Pi’erre Bourne]          8722327   \n",
       "154         [Boi-1da]                               [Drake]          3833965   \n",
       "376                []                                    []          3167943   \n",
       "\n",
       "     genius_album_id  \n",
       "547              NaN  \n",
       "559          10787.0  \n",
       "405              NaN  \n",
       "154              NaN  \n",
       "376         128797.0  "
      ]
     },
     "execution_count": 302,
     "metadata": {},
     "output_type": "execute_result"
    }
   ],
   "source": [
    "df_songs.sample(5)"
   ]
  },
  {
   "attachments": {},
   "cell_type": "markdown",
   "metadata": {},
   "source": [
    "#### Wiki Table"
   ]
  },
  {
   "cell_type": "code",
   "execution_count": 303,
   "metadata": {},
   "outputs": [],
   "source": [
    "df_wiki.columns = [x.replace('[','').replace(']','') for x in df_wiki.columns]\n",
    "df_wiki.columns = [re.sub(r'[0-9]','',x) for x in df_wiki.columns]\n",
    "df_wiki.columns = [x.lower() for x in df_wiki.columns]\n",
    "\n",
    "df_wiki_obj = df_wiki.select_dtypes('object')\n",
    "df_wiki[df_wiki_obj.columns] = df_wiki_obj.apply(lambda x: x.str.strip())\n",
    "df_wiki = df_wiki.replace(df_wiki['can'].iloc[8],np.NaN)\n",
    "df_wiki.fillna(0, inplace=True)\n",
    "\n",
    "country_cols = ['can','aus','fra','ire','nz','swe','uk','us','usr&b/hh','usrap']\n",
    "df_wiki[country_cols] = df_wiki[country_cols].astype('int')"
   ]
  },
  {
   "cell_type": "code",
   "execution_count": 304,
   "metadata": {},
   "outputs": [
    {
     "data": {
      "text/plain": [
       "'CAN: 176,000[27] UK: 219,053[28] US: 1,830,000[29]'"
      ]
     },
     "execution_count": 304,
     "metadata": {},
     "output_type": "execute_result"
    }
   ],
   "source": [
    "df_wiki['sales'].iloc[0]"
   ]
  },
  {
   "cell_type": "code",
   "execution_count": 305,
   "metadata": {},
   "outputs": [
    {
     "data": {
      "text/plain": [
       "['CAN', ' 176,000[27] UK', ' 219,053[28] US', ' 1,830,000[29]']"
      ]
     },
     "execution_count": 305,
     "metadata": {},
     "output_type": "execute_result"
    }
   ],
   "source": [
    "df_wiki['sales'].iloc[0].split(':')"
   ]
  },
  {
   "attachments": {},
   "cell_type": "markdown",
   "metadata": {},
   "source": [
    "# EDA"
   ]
  },
  {
   "attachments": {},
   "cell_type": "markdown",
   "metadata": {},
   "source": [
    "**What artists are featured the most on Drake songs?**"
   ]
  },
  {
   "cell_type": "code",
   "execution_count": 306,
   "metadata": {},
   "outputs": [],
   "source": [
    "featured_artists = {}\n",
    "for list in df_songs_commercial['featured_artists']:\n",
    "    if len(list) > 1:\n",
    "        for name in list:\n",
    "            name = name.strip()\n",
    "            if name in featured_artists:\n",
    "                featured_artists[name.strip()] += 1\n",
    "            else:\n",
    "                featured_artists[name.strip()] = 1\n",
    "        "
   ]
  },
  {
   "cell_type": "code",
   "execution_count": 307,
   "metadata": {},
   "outputs": [],
   "source": [
    "df_featured_artists = pd.DataFrame.from_dict(featured_artists, orient='index')\n",
    "df_featured_artists.reset_index(inplace=True)\n",
    "df_featured_artists.rename({\n",
    "    'index' : 'artist',\n",
    "    0 : 'count'\n",
    "}, axis = 1, inplace = True)"
   ]
  },
  {
   "cell_type": "code",
   "execution_count": 308,
   "metadata": {},
   "outputs": [
    {
     "data": {
      "text/html": [
       "<div>\n",
       "<style scoped>\n",
       "    .dataframe tbody tr th:only-of-type {\n",
       "        vertical-align: middle;\n",
       "    }\n",
       "\n",
       "    .dataframe tbody tr th {\n",
       "        vertical-align: top;\n",
       "    }\n",
       "\n",
       "    .dataframe thead th {\n",
       "        text-align: right;\n",
       "    }\n",
       "</style>\n",
       "<table border=\"1\" class=\"dataframe\">\n",
       "  <thead>\n",
       "    <tr style=\"text-align: right;\">\n",
       "      <th></th>\n",
       "      <th>artist</th>\n",
       "      <th>count</th>\n",
       "    </tr>\n",
       "  </thead>\n",
       "  <tbody>\n",
       "    <tr>\n",
       "      <th>22</th>\n",
       "      <td>Lil Wayne</td>\n",
       "      <td>6</td>\n",
       "    </tr>\n",
       "    <tr>\n",
       "      <th>2</th>\n",
       "      <td>2 Chainz</td>\n",
       "      <td>2</td>\n",
       "    </tr>\n",
       "    <tr>\n",
       "      <th>20</th>\n",
       "      <td>Young Thug</td>\n",
       "      <td>2</td>\n",
       "    </tr>\n",
       "    <tr>\n",
       "      <th>0</th>\n",
       "      <td>Ty Dolla $ign</td>\n",
       "      <td>1</td>\n",
       "    </tr>\n",
       "    <tr>\n",
       "      <th>15</th>\n",
       "      <td>Project Pat</td>\n",
       "      <td>1</td>\n",
       "    </tr>\n",
       "    <tr>\n",
       "      <th>27</th>\n",
       "      <td>Future</td>\n",
       "      <td>1</td>\n",
       "    </tr>\n",
       "    <tr>\n",
       "      <th>26</th>\n",
       "      <td>Bun B</td>\n",
       "      <td>1</td>\n",
       "    </tr>\n",
       "    <tr>\n",
       "      <th>25</th>\n",
       "      <td>Santigold</td>\n",
       "      <td>1</td>\n",
       "    </tr>\n",
       "    <tr>\n",
       "      <th>24</th>\n",
       "      <td>André 3000</td>\n",
       "      <td>1</td>\n",
       "    </tr>\n",
       "    <tr>\n",
       "      <th>23</th>\n",
       "      <td>Tyga</td>\n",
       "      <td>1</td>\n",
       "    </tr>\n",
       "  </tbody>\n",
       "</table>\n",
       "</div>"
      ],
      "text/plain": [
       "           artist  count\n",
       "22      Lil Wayne      6\n",
       "2        2 Chainz      2\n",
       "20     Young Thug      2\n",
       "0   Ty Dolla $ign      1\n",
       "15    Project Pat      1\n",
       "27         Future      1\n",
       "26          Bun B      1\n",
       "25      Santigold      1\n",
       "24     André 3000      1\n",
       "23           Tyga      1"
      ]
     },
     "execution_count": 308,
     "metadata": {},
     "output_type": "execute_result"
    }
   ],
   "source": [
    "df_featured_artists.sort_values('count', ascending=False).head(10)"
   ]
  },
  {
   "cell_type": "markdown",
   "metadata": {},
   "source": [
    "**What producer has produced the most Drake songs?**"
   ]
  },
  {
   "cell_type": "code",
   "execution_count": 309,
   "metadata": {},
   "outputs": [],
   "source": [
    "producer_artists = {}\n",
    "for list in df_songs_commercial['producer_artists']:\n",
    "    if len(list) > 1:\n",
    "        for name in list:\n",
    "            name = name.strip()\n",
    "            if name in producer_artists:\n",
    "                producer_artists[name.strip()] += 1\n",
    "            else:\n",
    "                producer_artists[name.strip()] = 1\n",
    "\n",
    "df_producer_artists = pd.DataFrame.from_dict(producer_artists, orient='index')\n",
    "df_producer_artists.reset_index(inplace=True)\n",
    "df_producer_artists.rename({\n",
    "    'index' : 'artist',\n",
    "    0 : 'count'\n",
    "}, axis = 1, inplace = True)"
   ]
  },
  {
   "cell_type": "code",
   "execution_count": 310,
   "metadata": {},
   "outputs": [
    {
     "data": {
      "text/html": [
       "<div>\n",
       "<style scoped>\n",
       "    .dataframe tbody tr th:only-of-type {\n",
       "        vertical-align: middle;\n",
       "    }\n",
       "\n",
       "    .dataframe tbody tr th {\n",
       "        vertical-align: top;\n",
       "    }\n",
       "\n",
       "    .dataframe thead th {\n",
       "        text-align: right;\n",
       "    }\n",
       "</style>\n",
       "<table border=\"1\" class=\"dataframe\">\n",
       "  <thead>\n",
       "    <tr style=\"text-align: right;\">\n",
       "      <th></th>\n",
       "      <th>artist</th>\n",
       "      <th>count</th>\n",
       "    </tr>\n",
       "  </thead>\n",
       "  <tbody>\n",
       "    <tr>\n",
       "      <th>11</th>\n",
       "      <td>40</td>\n",
       "      <td>72</td>\n",
       "    </tr>\n",
       "    <tr>\n",
       "      <th>2</th>\n",
       "      <td>Boi-1da</td>\n",
       "      <td>35</td>\n",
       "    </tr>\n",
       "    <tr>\n",
       "      <th>47</th>\n",
       "      <td>Nineteen85</td>\n",
       "      <td>11</td>\n",
       "    </tr>\n",
       "    <tr>\n",
       "      <th>5</th>\n",
       "      <td>Allen Ritter</td>\n",
       "      <td>10</td>\n",
       "    </tr>\n",
       "    <tr>\n",
       "      <th>45</th>\n",
       "      <td>Noel Cadastre</td>\n",
       "      <td>9</td>\n",
       "    </tr>\n",
       "    <tr>\n",
       "      <th>6</th>\n",
       "      <td>Vinylz</td>\n",
       "      <td>9</td>\n",
       "    </tr>\n",
       "    <tr>\n",
       "      <th>0</th>\n",
       "      <td>Ging</td>\n",
       "      <td>8</td>\n",
       "    </tr>\n",
       "    <tr>\n",
       "      <th>30</th>\n",
       "      <td>T-Minus</td>\n",
       "      <td>8</td>\n",
       "    </tr>\n",
       "    <tr>\n",
       "      <th>67</th>\n",
       "      <td>OZ</td>\n",
       "      <td>8</td>\n",
       "    </tr>\n",
       "    <tr>\n",
       "      <th>13</th>\n",
       "      <td>Maneesh</td>\n",
       "      <td>7</td>\n",
       "    </tr>\n",
       "  </tbody>\n",
       "</table>\n",
       "</div>"
      ],
      "text/plain": [
       "           artist  count\n",
       "11             40     72\n",
       "2         Boi-1da     35\n",
       "47     Nineteen85     11\n",
       "5    Allen Ritter     10\n",
       "45  Noel Cadastre      9\n",
       "6          Vinylz      9\n",
       "0            Ging      8\n",
       "30        T-Minus      8\n",
       "67             OZ      8\n",
       "13        Maneesh      7"
      ]
     },
     "execution_count": 310,
     "metadata": {},
     "output_type": "execute_result"
    }
   ],
   "source": [
    "df_producer_artists.sort_values('count', ascending=False).head(10)"
   ]
  },
  {
   "cell_type": "markdown",
   "metadata": {},
   "source": [
    "**Who has the most writing credits on Drake songs?**"
   ]
  },
  {
   "cell_type": "code",
   "execution_count": 311,
   "metadata": {},
   "outputs": [],
   "source": [
    "writer_artists = {}\n",
    "for list in df_songs_commercial['writer_artists']:\n",
    "    if len(list) > 1:\n",
    "        for name in list:\n",
    "            name = name.strip()\n",
    "            if name in writer_artists:\n",
    "                writer_artists[name.strip()] += 1\n",
    "            else:\n",
    "                writer_artists[name.strip()] = 1\n",
    "\n",
    "df_writer_artists = pd.DataFrame.from_dict(writer_artists, orient='index')\n",
    "df_writer_artists.reset_index(inplace=True)\n",
    "df_writer_artists.rename({\n",
    "    'index' : 'artist',\n",
    "    0 : 'count'\n",
    "}, axis = 1, inplace = True)"
   ]
  },
  {
   "cell_type": "code",
   "execution_count": 312,
   "metadata": {},
   "outputs": [
    {
     "data": {
      "text/html": [
       "<div>\n",
       "<style scoped>\n",
       "    .dataframe tbody tr th:only-of-type {\n",
       "        vertical-align: middle;\n",
       "    }\n",
       "\n",
       "    .dataframe tbody tr th {\n",
       "        vertical-align: top;\n",
       "    }\n",
       "\n",
       "    .dataframe thead th {\n",
       "        text-align: right;\n",
       "    }\n",
       "</style>\n",
       "<table border=\"1\" class=\"dataframe\">\n",
       "  <thead>\n",
       "    <tr style=\"text-align: right;\">\n",
       "      <th></th>\n",
       "      <th>artist</th>\n",
       "      <th>count</th>\n",
       "    </tr>\n",
       "  </thead>\n",
       "  <tbody>\n",
       "    <tr>\n",
       "      <th>4</th>\n",
       "      <td>Drake</td>\n",
       "      <td>218</td>\n",
       "    </tr>\n",
       "    <tr>\n",
       "      <th>9</th>\n",
       "      <td>40</td>\n",
       "      <td>109</td>\n",
       "    </tr>\n",
       "    <tr>\n",
       "      <th>2</th>\n",
       "      <td>Boi-1da</td>\n",
       "      <td>39</td>\n",
       "    </tr>\n",
       "    <tr>\n",
       "      <th>59</th>\n",
       "      <td>Anthony Palman</td>\n",
       "      <td>21</td>\n",
       "    </tr>\n",
       "    <tr>\n",
       "      <th>32</th>\n",
       "      <td>Kenza Samir</td>\n",
       "      <td>18</td>\n",
       "    </tr>\n",
       "    <tr>\n",
       "      <th>81</th>\n",
       "      <td>Lil Wayne</td>\n",
       "      <td>14</td>\n",
       "    </tr>\n",
       "    <tr>\n",
       "      <th>184</th>\n",
       "      <td>Nineteen85</td>\n",
       "      <td>13</td>\n",
       "    </tr>\n",
       "    <tr>\n",
       "      <th>149</th>\n",
       "      <td>PARTYNEXTDOOR</td>\n",
       "      <td>12</td>\n",
       "    </tr>\n",
       "    <tr>\n",
       "      <th>109</th>\n",
       "      <td>Noel Cadastre</td>\n",
       "      <td>12</td>\n",
       "    </tr>\n",
       "    <tr>\n",
       "      <th>36</th>\n",
       "      <td>Maneesh</td>\n",
       "      <td>11</td>\n",
       "    </tr>\n",
       "  </tbody>\n",
       "</table>\n",
       "</div>"
      ],
      "text/plain": [
       "             artist  count\n",
       "4             Drake    218\n",
       "9                40    109\n",
       "2           Boi-1da     39\n",
       "59   Anthony Palman     21\n",
       "32      Kenza Samir     18\n",
       "81        Lil Wayne     14\n",
       "184      Nineteen85     13\n",
       "149   PARTYNEXTDOOR     12\n",
       "109   Noel Cadastre     12\n",
       "36          Maneesh     11"
      ]
     },
     "execution_count": 312,
     "metadata": {},
     "output_type": "execute_result"
    }
   ],
   "source": [
    "df_writer_artists.sort_values('count', ascending=False).head(10)"
   ]
  },
  {
   "attachments": {},
   "cell_type": "markdown",
   "metadata": {},
   "source": [
    "We can see that Drake is credited on 200 songs (commercial album releases) but what percentage of his entire discography is that?"
   ]
  },
  {
   "cell_type": "code",
   "execution_count": 313,
   "metadata": {},
   "outputs": [
    {
     "name": "stdout",
     "output_type": "stream",
     "text": [
      "Drake has writing credits on 95.2% of his commercially released songs\n",
      "...\n",
      "*Data does not account for ghost writers*\n"
     ]
    }
   ],
   "source": [
    "per_writing = np.round(df_writer_artists[df_writer_artists['artist'] == 'Drake']['count'].values[0] / df_songs_commercial.shape[0] * 100, 2)\n",
    "print(f'Drake has writing credits on {per_writing}% of his commercially released songs')\n",
    "print('...')\n",
    "print('*Data does not account for ghost writers*')"
   ]
  },
  {
   "attachments": {},
   "cell_type": "markdown",
   "metadata": {},
   "source": [
    "Finding all the songs where Drake is not listed as a writer"
   ]
  },
  {
   "cell_type": "code",
   "execution_count": 314,
   "metadata": {},
   "outputs": [
    {
     "data": {
      "text/html": [
       "<div>\n",
       "<style scoped>\n",
       "    .dataframe tbody tr th:only-of-type {\n",
       "        vertical-align: middle;\n",
       "    }\n",
       "\n",
       "    .dataframe tbody tr th {\n",
       "        vertical-align: top;\n",
       "    }\n",
       "\n",
       "    .dataframe thead th {\n",
       "        text-align: right;\n",
       "    }\n",
       "</style>\n",
       "<table border=\"1\" class=\"dataframe\">\n",
       "  <thead>\n",
       "    <tr style=\"text-align: right;\">\n",
       "      <th></th>\n",
       "      <th>title</th>\n",
       "      <th>album</th>\n",
       "      <th>release_date</th>\n",
       "      <th>featured_artists</th>\n",
       "      <th>producer_artists</th>\n",
       "      <th>writer_artists</th>\n",
       "      <th>genius_track_id</th>\n",
       "      <th>genius_album_id</th>\n",
       "    </tr>\n",
       "  </thead>\n",
       "  <tbody>\n",
       "    <tr>\n",
       "      <th>10</th>\n",
       "      <td>4422</td>\n",
       "      <td>More Life</td>\n",
       "      <td>2017-03-18</td>\n",
       "      <td>[Sampha]</td>\n",
       "      <td>[FrancisGotHeat]</td>\n",
       "      <td>[FrancisGotHeat, Sampha]</td>\n",
       "      <td>3028680</td>\n",
       "      <td>286515.0</td>\n",
       "    </tr>\n",
       "    <tr>\n",
       "      <th>62</th>\n",
       "      <td>Buried Alive Interlude</td>\n",
       "      <td>Take Care</td>\n",
       "      <td>2011-11-15</td>\n",
       "      <td>[Kendrick Lamar]</td>\n",
       "      <td>[Supa Dups, 40]</td>\n",
       "      <td>[Kendrick Lamar, Supa Dups, 40]</td>\n",
       "      <td>55602</td>\n",
       "      <td>10787.0</td>\n",
       "    </tr>\n",
       "    <tr>\n",
       "      <th>329</th>\n",
       "      <td>Outro</td>\n",
       "      <td>So Far Gone</td>\n",
       "      <td>2009-02-13</td>\n",
       "      <td>[]</td>\n",
       "      <td>[Chilly Gonzales]</td>\n",
       "      <td>[Chilly Gonzales]</td>\n",
       "      <td>139751</td>\n",
       "      <td>2627.0</td>\n",
       "    </tr>\n",
       "    <tr>\n",
       "      <th>458</th>\n",
       "      <td>Skepta Interlude</td>\n",
       "      <td>More Life</td>\n",
       "      <td>2017-03-18</td>\n",
       "      <td>[Skepta]</td>\n",
       "      <td>[Nana Rogues]</td>\n",
       "      <td>[Skepta, Nana Rogues]</td>\n",
       "      <td>3028685</td>\n",
       "      <td>286515.0</td>\n",
       "    </tr>\n",
       "    <tr>\n",
       "      <th>488</th>\n",
       "      <td>Summers Over Interlude</td>\n",
       "      <td>Views</td>\n",
       "      <td>2016-04-29</td>\n",
       "      <td>[Majid Jordan]</td>\n",
       "      <td>[Maneesh]</td>\n",
       "      <td>[Maneesh, Majid Al Maskati]</td>\n",
       "      <td>2463397</td>\n",
       "      <td>132506.0</td>\n",
       "    </tr>\n",
       "    <tr>\n",
       "      <th>504</th>\n",
       "      <td>Thank Me Later [Booklet]</td>\n",
       "      <td>Thank Me Later</td>\n",
       "      <td>2010-06-15</td>\n",
       "      <td>[]</td>\n",
       "      <td>[]</td>\n",
       "      <td>[]</td>\n",
       "      <td>2448969</td>\n",
       "      <td>2630.0</td>\n",
       "    </tr>\n",
       "    <tr>\n",
       "      <th>576</th>\n",
       "      <td>Wednesday Night Interlude</td>\n",
       "      <td>If You’re Reading This It’s Too Late</td>\n",
       "      <td>2015-02-13</td>\n",
       "      <td>[PARTYNEXTDOOR]</td>\n",
       "      <td>[PARTYNEXTDOOR]</td>\n",
       "      <td>[Ekali, PARTYNEXTDOOR]</td>\n",
       "      <td>703746</td>\n",
       "      <td>119674.0</td>\n",
       "    </tr>\n",
       "  </tbody>\n",
       "</table>\n",
       "</div>"
      ],
      "text/plain": [
       "                         title                                 album  \\\n",
       "10                        4422                             More Life   \n",
       "62      Buried Alive Interlude                             Take Care   \n",
       "329                      Outro                           So Far Gone   \n",
       "458           Skepta Interlude                             More Life   \n",
       "488     Summers Over Interlude                                 Views   \n",
       "504   Thank Me Later [Booklet]                        Thank Me Later   \n",
       "576  Wednesday Night Interlude  If You’re Reading This It’s Too Late   \n",
       "\n",
       "    release_date  featured_artists   producer_artists  \\\n",
       "10    2017-03-18          [Sampha]   [FrancisGotHeat]   \n",
       "62    2011-11-15  [Kendrick Lamar]    [Supa Dups, 40]   \n",
       "329   2009-02-13                []  [Chilly Gonzales]   \n",
       "458   2017-03-18          [Skepta]      [Nana Rogues]   \n",
       "488   2016-04-29    [Majid Jordan]          [Maneesh]   \n",
       "504   2010-06-15                []                 []   \n",
       "576   2015-02-13   [PARTYNEXTDOOR]    [PARTYNEXTDOOR]   \n",
       "\n",
       "                      writer_artists  genius_track_id  genius_album_id  \n",
       "10          [FrancisGotHeat, Sampha]          3028680         286515.0  \n",
       "62   [Kendrick Lamar, Supa Dups, 40]            55602          10787.0  \n",
       "329                [Chilly Gonzales]           139751           2627.0  \n",
       "458            [Skepta, Nana Rogues]          3028685         286515.0  \n",
       "488      [Maneesh, Majid Al Maskati]          2463397         132506.0  \n",
       "504                               []          2448969           2630.0  \n",
       "576           [Ekali, PARTYNEXTDOOR]           703746         119674.0  "
      ]
     },
     "execution_count": 314,
     "metadata": {},
     "output_type": "execute_result"
    }
   ],
   "source": [
    "songs_no_drake = []\n",
    "for name, list in zip(df_songs_commercial['title'],df_songs_commercial['writer_artists']):\n",
    "    if 'Drake' not in list:\n",
    "        songs_no_drake.append(name)\n",
    "\n",
    "df_songs_commercial[df_songs_commercial['title'].isin(songs_no_drake)]"
   ]
  },
  {
   "attachments": {},
   "cell_type": "markdown",
   "metadata": {},
   "source": [
    "**What year did Drake release the most music?**"
   ]
  },
  {
   "cell_type": "code",
   "execution_count": 316,
   "metadata": {},
   "outputs": [],
   "source": [
    "df_songs_commercial['release_year'] = df_songs_commercial['release_date'].apply(lambda x: x.year)"
   ]
  },
  {
   "cell_type": "code",
   "execution_count": 336,
   "metadata": {},
   "outputs": [],
   "source": [
    "count_year = df_songs_commercial.groupby('release_year').size().reset_index()\n",
    "count_year.rename({0:'count_songs'}, axis = 1, inplace=True)"
   ]
  },
  {
   "cell_type": "code",
   "execution_count": 355,
   "metadata": {},
   "outputs": [
    {
     "data": {
      "image/png": "[encoded data removed]",
      "text/plain": [
       "<Figure size 1200x800 with 1 Axes>"
      ]
     },
     "metadata": {},
     "output_type": "display_data"
    }
   ],
   "source": [
    "fig = plt.figure(figsize =(12,8))\n",
    "\n",
    "ax = sns.barplot(\n",
    "    data = count_year,\n",
    "    x = 'release_year',\n",
    "    y = 'count_songs',\n",
    "    color = '#D69F7E'\n",
    ")\n",
    "\n",
    "for dir in ['top', 'right']:\n",
    "    ax.spines[dir].set_visible(False)\n",
    "\n",
    "ax.bar_label(ax.containers[0], weight = 'bold')\n",
    "\n",
    "ax.set_title('Number of Songs Released by Year', pad = 10)\n",
    "ax.set_ylabel(None)\n",
    "ax.set_xlabel('Year of Release', labelpad = 20)\n",
    "\n",
    "plt.show()"
   ]
  },
  {
   "cell_type": "code",
   "execution_count": null,
   "metadata": {},
   "outputs": [],
   "source": []
  }
 ],
 "metadata": {
  "kernelspec": {
   "display_name": "base",
   "language": "python",
   "name": "python3"
  },
  "language_info": {
   "codemirror_mode": {
    "name": "ipython",
    "version": 3
   },
   "file_extension": ".py",
   "mimetype": "text/x-python",
   "name": "python",
   "nbconvert_exporter": "python",
   "pygments_lexer": "ipython3",
   "version": "3.9.13 (main, Aug 25 2022, 18:29:29) \n[Clang 12.0.0 ]"
  },
  "orig_nbformat": 4,
  "vscode": {
   "interpreter": {
    "hash": "e090a5f5c82f5c9ebdf0757a12c8d1c0de750bcff55bc3678481303c1c5f1d72"
   }
  }
 },
 "nbformat": 4,
 "nbformat_minor": 2
}
