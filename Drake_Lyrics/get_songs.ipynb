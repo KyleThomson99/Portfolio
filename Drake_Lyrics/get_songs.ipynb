{
 "cells": [
  {
   "cell_type": "code",
   "execution_count": 7,
   "metadata": {},
   "outputs": [],
   "source": [
    "import requests\n",
    "import urllib.request\n",
    "import urllib.parse\n",
    "import json\n",
    "from bs4 import BeautifulSoup"
   ]
  },
  {
   "cell_type": "code",
   "execution_count": 8,
   "metadata": {},
   "outputs": [],
   "source": [
    "base = \"https://api.genius.com\"\n",
    "client_access_token  = \"TczpRGqWv-BdhRtJQ0WeQg5HQxGSANb_LzKl5qYgLynMcnNzTgAfsO6FSUxqXdta\""
   ]
  },
  {
   "cell_type": "code",
   "execution_count": 43,
   "metadata": {},
   "outputs": [],
   "source": [
    "search_term = 'Drake'\n",
    "artist_id = 130\n",
    "search_url = f'{base}/search?q={search_term}&access_token={client_access_token}'"
   ]
  },
  {
   "cell_type": "code",
   "execution_count": 11,
   "metadata": {},
   "outputs": [],
   "source": [
    "response = requests.get(search_url)\n",
    "json_data = response.json()"
   ]
  },
  {
   "cell_type": "code",
   "execution_count": 18,
   "metadata": {},
   "outputs": [
    {
     "name": "stdout",
     "output_type": "stream",
     "text": [
      "Drake: God’s Plan\n",
      "Drake: In My Feelings\n",
      "Drake: Hotline Bling\n",
      "Drake: One Dance\n",
      "Drake: Hold On, We’re Going Home\n",
      "Drake: Know Yourself\n",
      "Drake: Back to Back\n",
      "Drake: All Me\n",
      "Drake: From Time\n",
      "Drake: Fake Love\n"
     ]
    }
   ],
   "source": [
    "data = json_data['response']['hits']\n",
    "for item in data:\n",
    "        print(item['result']['primary_artist']['name']+ ': ' + item['result']['title'])"
   ]
  },
  {
   "cell_type": "code",
   "execution_count": 41,
   "metadata": {},
   "outputs": [],
   "source": [
    "def get_json(path, params = None, header = None):\n",
    "    requrl = '/'.join([base,path])\n",
    "    token = 'Bearer {}'.format(client_access_token)\n",
    "    if header:\n",
    "        header['Authorization'] = token\n",
    "    else:\n",
    "        header = {'Authorization': token}\n",
    "    \n",
    "    response = requests.get(url = requrl, params = params, headers = header)\n",
    "    response.raise_for_status()\n",
    "\n",
    "    return response.json()"
   ]
  },
  {
   "cell_type": "code",
   "execution_count": 49,
   "metadata": {},
   "outputs": [
    {
     "name": "stdout",
     "output_type": "stream",
     "text": [
      "Page 2 finished scraping\n",
      "Page 3 finished scraping\n",
      "Page 4 finished scraping\n",
      "Page 5 finished scraping\n",
      "Page 6 finished scraping\n",
      "Page 7 finished scraping\n",
      "Page 8 finished scraping\n",
      "Page 9 finished scraping\n",
      "Page 10 finished scraping\n",
      "Page 11 finished scraping\n",
      "Page 12 finished scraping\n",
      "Page 13 finished scraping\n",
      "Page 14 finished scraping\n",
      "Page 15 finished scraping\n",
      "Page 16 finished scraping\n",
      "Page 17 finished scraping\n",
      "Page 18 finished scraping\n",
      "Page 19 finished scraping\n",
      "Page 20 finished scraping\n",
      "Page 21 finished scraping\n",
      "Page 22 finished scraping\n",
      "Page 23 finished scraping\n",
      "Page 24 finished scraping\n",
      "Page 25 finished scraping\n",
      "Page 26 finished scraping\n",
      "Page 27 finished scraping\n",
      "Page 28 finished scraping\n",
      "Page 29 finished scraping\n",
      "Page 30 finished scraping\n",
      "Page 31 finished scraping\n",
      "Page 32 finished scraping\n",
      "Page 33 finished scraping\n",
      "Page 34 finished scraping\n",
      "Page 35 finished scraping\n",
      "Page 36 finished scraping\n",
      "Page 37 finished scraping\n",
      "Page 38 finished scraping\n",
      "Page 39 finished scraping\n",
      "Page 40 finished scraping\n",
      "Page 41 finished scraping\n",
      "Page 42 finished scraping\n",
      "Page 43 finished scraping\n",
      "Page 44 finished scraping\n",
      "Page 45 finished scraping\n",
      "Page 46 finished scraping\n",
      "Page 47 finished scraping\n",
      "Page 48 finished scraping\n",
      "Page 49 finished scraping\n",
      "Page 50 finished scraping\n",
      "Page 51 finished scraping\n",
      "Page 52 finished scraping\n",
      "Page 53 finished scraping\n",
      "Page 54 finished scraping\n",
      "Page 55 finished scraping\n",
      "Page 56 finished scraping\n",
      "Page 57 finished scraping\n",
      "Page 58 finished scraping\n",
      "Page 59 finished scraping\n",
      "Page 60 finished scraping\n",
      "Page 61 finished scraping\n",
      "Page 62 finished scraping\n",
      "Page 63 finished scraping\n",
      "Page 64 finished scraping\n",
      "Page 65 finished scraping\n",
      "Page 66 finished scraping\n",
      "Page 67 finished scraping\n",
      "Page 68 finished scraping\n",
      "Page 69 finished scraping\n",
      "Page 70 finished scraping\n",
      "Page 71 finished scraping\n",
      "Page 72 finished scraping\n",
      "Page 73 finished scraping\n",
      "Page 74 finished scraping\n",
      "Song id were scraped from 74 pages\n"
     ]
    }
   ],
   "source": [
    "current_page = 1\n",
    "next_page = True\n",
    "songs = []\n",
    "\n",
    "while next_page:\n",
    "    path = \"artists/{}/songs/\".format(artist_id)\n",
    "    params = {'page': current_page}\n",
    "    data = get_json(path = path, params = params)\n",
    "\n",
    "    page_songs = data['response']['songs']\n",
    "    if page_songs:\n",
    "        songs += page_songs\n",
    "        current_page += 1\n",
    "        print('Page {} finished scraping'.format(current_page))\n",
    "    \n",
    "    else:\n",
    "        next_page = False\n",
    "\n",
    "\n",
    "print('Song id were scraped from {} pages'.format(current_page))\n",
    "\n",
    "song_ids = [song['id'] for song in songs if song['primary_artist']['id'] == artist_id]"
   ]
  },
  {
   "cell_type": "code",
   "execution_count": 48,
   "metadata": {},
   "outputs": [
    {
     "data": {
      "text/plain": [
       "606"
      ]
     },
     "execution_count": 48,
     "metadata": {},
     "output_type": "execute_result"
    }
   ],
   "source": [
    "len(songs)"
   ]
  },
  {
   "cell_type": "code",
   "execution_count": 75,
   "metadata": {},
   "outputs": [
    {
     "name": "stdout",
     "output_type": "stream",
     "text": [
      "id: 156640 start. ->\n",
      "-> id:156640is finished. \n",
      "\n",
      "id: 703738 start. ->\n",
      "-> id:703738is finished. \n",
      "\n",
      "id: 421444 start. ->\n",
      "-> id:421444is finished. \n",
      "\n",
      "id: 2457033 start. ->\n",
      "-> id:2457033is finished. \n",
      "\n",
      "id: 214614 start. ->\n",
      "-> id:214614is finished. \n",
      "\n",
      "id: 2846923 start. ->\n",
      "-> id:2846923is finished. \n",
      "\n",
      "id: 7475353 start. ->\n",
      "-> id:7475353is finished. \n",
      "\n",
      "id: 217281 start. ->\n",
      "-> id:217281is finished. \n",
      "\n",
      "id: 2311376 start. ->\n",
      "-> id:2311376is finished. \n",
      "\n",
      "id: 6168379 start. ->\n",
      "-> id:6168379is finished. \n",
      "\n",
      "id: 3028680 start. ->\n",
      "-> id:3028680is finished. \n",
      "\n",
      "id: 2489756 start. ->\n",
      "-> id:2489756is finished. \n",
      "\n",
      "id: 124418 start. ->\n",
      "-> id:124418is finished. \n",
      "\n",
      "id: 500858 start. ->\n",
      "-> id:500858is finished. \n",
      "\n",
      "id: 703756 start. ->\n",
      "-> id:703756is finished. \n",
      "\n",
      "id: 703730 start. ->\n",
      "-> id:703730is finished. \n",
      "\n",
      "id: 7165567 start. ->\n",
      "-> id:7165567is finished. \n",
      "\n",
      "id: 3807743 start. ->\n",
      "-> id:3807743is finished. \n",
      "\n",
      "id: 2463393 start. ->\n",
      "-> id:2463393is finished. \n",
      "\n",
      "id: 514 start. ->\n",
      "-> id:514is finished. \n",
      "\n",
      "id: 7737003 start. ->\n",
      "-> id:7737003is finished. \n",
      "\n",
      "id: 201539 start. ->\n",
      "-> id:201539is finished. \n",
      "\n",
      "id: 4427020 start. ->\n",
      "-> id:4427020is finished. \n",
      "\n",
      "id: 3807744 start. ->\n"
     ]
    }
   ],
   "source": [
    "song_list = {}\n",
    "for i, song_id in enumerate(song_ids):\n",
    "    print(\"id: \" + str(song_id) + \" start. ->\")\n",
    "\n",
    "    path = \"songs/{}\".format(song_id)\n",
    "    data = get_json(path = path)['response']['song']\n",
    "\n",
    "    song_list.update({\n",
    "        i : {\n",
    "            'title' : data['title'],\n",
    "            'album' : data['album']['name'] if data['album'] else '<single>',\n",
    "            'release_date' : data['release_date'] if data['release_date'] else 'unidentified',\n",
    "            'featured_artists' : \n",
    "                [feat['name'] if data['featured_artists'] else \"\" for feat in data['featured_artists']],\n",
    "            'producer_artists' : \n",
    "                [feat['name'] if data['producer_artists'] else \"\" for feat in data['producer_artists']],\n",
    "            'writer_artists':\n",
    "                [feat['name'] if data['writer_artists'] else \"\" for feat in data['writer_artists']],\n",
    "            'genius_track_id' : song_id,\n",
    "            'genius_album_id' : data['album']['id'] if data['album'] else \"none\"\n",
    "        }\n",
    "    })\n",
    "\n",
    "    print(\"-> id:\" + str(song_id) + 'is finished. \\n')"
   ]
  },
  {
   "cell_type": "code",
   "execution_count": 74,
   "metadata": {},
   "outputs": [
    {
     "ename": "KeyError",
     "evalue": "0",
     "output_type": "error",
     "traceback": [
      "\u001b[0;31m---------------------------------------------------------------------------\u001b[0m",
      "\u001b[0;31mKeyError\u001b[0m                                  Traceback (most recent call last)",
      "\u001b[0;32m/var/folders/c6/h81kvhws2p18w4r2z8tbmby00000gn/T/ipykernel_93248/752537999.py\u001b[0m in \u001b[0;36m<module>\u001b[0;34m\u001b[0m\n\u001b[0;32m----> 1\u001b[0;31m \u001b[0msong_list\u001b[0m\u001b[0;34m[\u001b[0m\u001b[0;36m0\u001b[0m\u001b[0;34m]\u001b[0m\u001b[0;34m\u001b[0m\u001b[0;34m\u001b[0m\u001b[0m\n\u001b[0m",
      "\u001b[0;31mKeyError\u001b[0m: 0"
     ]
    }
   ],
   "source": []
  },
  {
   "cell_type": "code",
   "execution_count": 71,
   "metadata": {},
   "outputs": [
    {
     "data": {
      "text/plain": [
       "'#FYM12'"
      ]
     },
     "execution_count": 71,
     "metadata": {},
     "output_type": "execute_result"
    }
   ],
   "source": [
    "song_list[0]['album']"
   ]
  },
  {
   "cell_type": "code",
   "execution_count": null,
   "metadata": {},
   "outputs": [],
   "source": []
  }
 ],
 "metadata": {
  "kernelspec": {
   "display_name": "base",
   "language": "python",
   "name": "python3"
  },
  "language_info": {
   "codemirror_mode": {
    "name": "ipython",
    "version": 3
   },
   "file_extension": ".py",
   "mimetype": "text/x-python",
   "name": "python",
   "nbconvert_exporter": "python",
   "pygments_lexer": "ipython3",
   "version": "3.9.13"
  },
  "orig_nbformat": 4,
  "vscode": {
   "interpreter": {
    "hash": "e090a5f5c82f5c9ebdf0757a12c8d1c0de750bcff55bc3678481303c1c5f1d72"
   }
  }
 },
 "nbformat": 4,
 "nbformat_minor": 2
}
