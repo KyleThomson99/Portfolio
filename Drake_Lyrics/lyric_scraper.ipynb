{
 "cells": [
  {
   "cell_type": "code",
   "execution_count": 14,
   "metadata": {},
   "outputs": [],
   "source": [
    "from urllib.request import urlopen\n",
    "from bs4 import BeautifulSoup\n",
    "from time import sleep\n",
    "import csv\n",
    "import json"
   ]
  },
  {
   "cell_type": "code",
   "execution_count": 7,
   "metadata": {},
   "outputs": [],
   "source": [
    "artist = 'drake'\n",
    "song = 'digitaldash'\n",
    "base = f\"https://www.azlyrics.com/lyrics/{artist}/{song}.html\""
   ]
  },
  {
   "cell_type": "code",
   "execution_count": 64,
   "metadata": {},
   "outputs": [],
   "source": [
    "html_page = urlopen(base)\n",
    "soup = BeautifulSoup(html_page, 'html.parser')"
   ]
  },
  {
   "cell_type": "code",
   "execution_count": 65,
   "metadata": {},
   "outputs": [],
   "source": [
    "html_pointer = soup.find('div', class_ = 'ringtone')"
   ]
  },
  {
   "cell_type": "code",
   "execution_count": 66,
   "metadata": {},
   "outputs": [],
   "source": [
    "song_name = html_pointer.find_next('b').contents[0].strip()"
   ]
  },
  {
   "cell_type": "code",
   "execution_count": 67,
   "metadata": {},
   "outputs": [],
   "source": [
    "lyrics = html_pointer.find_next('div').text.strip()"
   ]
  },
  {
   "cell_type": "code",
   "execution_count": 99,
   "metadata": {},
   "outputs": [
    {
     "data": {
      "text/plain": [
       "\"(Metro Boomin want some more, nigga)\\nRollin' in the coupe, yeah\\nYeah\\nGet it\\nGet it, get it, hey (Freebandz)\\nCook it, cook it (Yeah), huh (Hold up)\\n(Southside)\\nYeah\\nMy dope in the bushes (Turn up)\\nMy dope in the bushes (Hold up)\\nI know how to cook it (Cook it)\\nMy bitch good looking (Woo)\\nMy bitch good looking (Hold up)\\nMy bitch good looking (I swear)\\nMy dope in the bushes, I know how to cook it\\nYeah (Yeah)\\nYeah, yeah (Yeah, yeah)\\n\\nI did the digital dash (I did it)\\nI fucked that bitch on the passenger (One hundred)\\nI gave that junky a blast (One hundred)\\nI sell that dope to your mama, though (Your mama)\\nHot on the street like thermometers (Thermometers)\\nYou rats'll never be honorable (Fuck 'em)\\nThey know I'ma keep that my word (Yeah)\\nI hustle the first to the first (Future)\\n\\nThese bitches be naggin' the kid (Fuck 'em)\\nThey get on my motherfuckin' nerves (My motherfuckin' nerves)\\nI showed up with racks and they love me (They love me)\\nI'm smokin' that pack and on muddy (That gushy)\\nTaliban on these hoes (Hoes)\\nGive a Xan' to these hoes (These hoes)\\nGot 'em playing with they nose (Yeah)\\nI sleep on a beach off the avenue (The avenue)\\nI came to your city with revenue (Miami)\\nI put in work, it was evident (It was)\\nI slide on your ass in a seven-deuce (I slide on 'em)\\nCome back on your bitch in a six-trey (Woo)\\nChevy, Mercedes, I keep 'em comin' (Keep 'em comin')\\nFuck all these bitches, I keep 'em comin' (Foreign)\\nI pull up right now, I'm parallel (Skrrt)\\nI hit your block with them swangers (I hit 'em)\\nMy niggas ain't nothin' but some bangers (Throw up)\\nI sit in the trap with the gangsters\\nThese niggas can't come around here 'cause it's dangerous (Wizard)\\nI be hangin' 'round here and I'm famous (Wizard)\\nGotta keep the trigger by my finger (My finger)\\nHit her sideways when I banged her (I fucked)\\nIn the driveway on a Perc' (A Perc')\\nI was sideways on a Perc' (Pour up)\\nHad a stick on me, that's a first (Yeah)\\nGot your bitch on me gettin' murked (Let's get it)\\nI post up and that's confident (That's confident)\\nI boast up in a drop six (Drop six)\\nHad a Ghost Royce and I pop shit (Pop shit)\\nI'm a dope boy with that car trip (Yeah)\\nI came in the game, I had crack on me (I had crack on me)\\nGot Bape on my back with some Act' on me (Act')\\nI'm single and shit, now she latch on me (I'm single)\\nI told 'em I'm back, I'm a bachelor (I'm back)\\nI get focused on millions and everything (Focused)\\nI just took me a trip out to Africa (Africa)\\nSee how we came from the mud and the bottom, we did it (Bottom, we did it, we did it, woo)\\nI see how they counted us out, bet they never gon' do it again (Freebandz)\\nYou see why these niggas be hatin', ignorin', I'm goin' right in (Yeah)\\nI was born to get this money in this life of sin (Life of sin)\\nI poured up before they got my dog on murder again (Murder)\\nSee the fire come out the ass on the Lamborghini (Skrrt)\\nWhen you say you love a nigga, do you really mean it? (No)\\nWhen I was sleepin' on the floor, you should see how they treated me (Hah)\\nI pour the Actavis, pop pills so I can fight the demons (Oh)\\n\\nI did the digital dash (Fuck)\\nI fucked that bitch on the passenger (Fuck)\\nI gave that junky a blast (Blast)\\nI sell that dope to your mama, though (Mama)\\nHot on the street like thermometers (Thermometers)\\nYou rats'll never be honorable (Fuck 'em)\\nThey know I'ma keep that my word (They know)\\nI hustle the first to the first (I hustle)\\n\\nThese bitches be nagging the kid\\nFuck it, it is what it is\\nIf you get hit, you get hit\\nI don't forget or forgive\\nTold myself never again\\nI don't let nobody in\\nSuper just showed out again\\nAnd we just keep servin' and servin' again and again and again and again\\nI move the game up, I'm reckless\\nI'm Harlem shaking through the pressure\\nI might put Diddy on my next shit\\nI might could fit you in on Wednesday\\nI'm not here for no pretend shit\\nJust walked in with a girl that's making triple what I'm making, what an entrance\\nThat's when you know it's a body\\nZone 6, they know it's a body\\nKirkwood, they know it's a body\\nLil Mexico know it's a body\\nScooter in here with the zombies\\nGucci get out, it's a problem\\nI might take Quentin to Follies\\nYou hate your life, just be honest\\nI got the digital dash\\nShe want a picture with all of my niggas to just make the visual last\\nBut she too embarrassed to ask\\nI got my foot on they neck and my foot on the gas\\nYou remind me of a quarterback, your shit is all in the past\\nEsco and Boomin, they got it on smash\\nAnd I got the, I got the, I got the, I got the, I\\n\\nI did the digital dash (Woo)\\nI fucked that bitch in the passenger\\nI gave that junky a blast\\nI sell that dope to your mama, though\""
      ]
     },
     "execution_count": 99,
     "metadata": {},
     "output_type": "execute_result"
    }
   ],
   "source": [
    "lyrics"
   ]
  },
  {
   "cell_type": "code",
   "execution_count": 69,
   "metadata": {},
   "outputs": [],
   "source": [
    "import pandas as pd"
   ]
  },
  {
   "cell_type": "code",
   "execution_count": 70,
   "metadata": {},
   "outputs": [],
   "source": [
    "df = pd.DataFrame(columns = ['Song Title', 'Lyrics'])"
   ]
  },
  {
   "cell_type": "code",
   "execution_count": null,
   "metadata": {},
   "outputs": [],
   "source": []
  }
 ],
 "metadata": {
  "kernelspec": {
   "display_name": "base",
   "language": "python",
   "name": "python3"
  },
  "language_info": {
   "codemirror_mode": {
    "name": "ipython",
    "version": 3
   },
   "file_extension": ".py",
   "mimetype": "text/x-python",
   "name": "python",
   "nbconvert_exporter": "python",
   "pygments_lexer": "ipython3",
   "version": "3.9.13"
  },
  "orig_nbformat": 4,
  "vscode": {
   "interpreter": {
    "hash": "e090a5f5c82f5c9ebdf0757a12c8d1c0de750bcff55bc3678481303c1c5f1d72"
   }
  }
 },
 "nbformat": 4,
 "nbformat_minor": 2
}
